{
  "nbformat": 4,
  "nbformat_minor": 0,
  "metadata": {
    "colab": {
      "name": "classifier_on_data_test.ipynb",
      "version": "0.3.2",
      "provenance": [],
      "collapsed_sections": []
    },
    "kernelspec": {
      "name": "python3",
      "display_name": "Python 3"
    },
    "accelerator": "GPU"
  },
  "cells": [
    {
      "cell_type": "markdown",
      "metadata": {
        "id": "-m5PXfx01Wmw",
        "colab_type": "text"
      },
      "source": [
        "# Cross validation"
      ]
    },
    {
      "cell_type": "markdown",
      "metadata": {
        "id": "4Zc-ZsYr053a",
        "colab_type": "text"
      },
      "source": [
        "台新分析開發環境案客戶資料\n",
        "https://drive.google.com/drive/u/2/folders/1AAXWPcB9xiDe_qX87ce5XL-utkASWxRe\n",
        "\n",
        "請先連到這個分享資料夾，並且按下右鍵，加入你的 Google 雲端硬碟\n"
      ]
    },
    {
      "cell_type": "code",
      "metadata": {
        "id": "DLxDQLLTw2Sc",
        "colab_type": "code",
        "outputId": "f981cbd6-e94e-4c8b-ee61-df8173779542",
        "colab": {
          "base_uri": "https://localhost:8080/",
          "height": 126
        }
      },
      "source": [
        "# 這個是授權存取你的 Google 雲端硬碟\n",
        "from google.colab import drive\n",
        "drive.mount('/content/drive')"
      ],
      "execution_count": 1,
      "outputs": [
        {
          "output_type": "stream",
          "text": [
            "Go to this URL in a browser: https://accounts.google.com/o/oauth2/auth?client_id=947318989803-6bn6qk8qdgf4n4g3pfee6491hc0brc4i.apps.googleusercontent.com&redirect_uri=urn%3Aietf%3Awg%3Aoauth%3A2.0%3Aoob&scope=email%20https%3A%2F%2Fwww.googleapis.com%2Fauth%2Fdocs.test%20https%3A%2F%2Fwww.googleapis.com%2Fauth%2Fdrive%20https%3A%2F%2Fwww.googleapis.com%2Fauth%2Fdrive.photos.readonly%20https%3A%2F%2Fwww.googleapis.com%2Fauth%2Fpeopleapi.readonly&response_type=code\n",
            "\n",
            "Enter your authorization code:\n",
            "··········\n",
            "Mounted at /content/drive\n"
          ],
          "name": "stdout"
        }
      ]
    },
    {
      "cell_type": "code",
      "metadata": {
        "id": "y55N58WSzWHr",
        "colab_type": "code",
        "outputId": "34ea5d15-5567-4178-db59-26a9a7b93d0c",
        "colab": {
          "base_uri": "https://localhost:8080/",
          "height": 300
        }
      },
      "source": [
        "# 確認真的連上了資料\n",
        "!ls drive/My\\ Drive/台新分析開發環境案客戶資料"
      ],
      "execution_count": 2,
      "outputs": [
        {
          "output_type": "stream",
          "text": [
            "'Copy of 0606_口述台新資料欄位.m4a'\n",
            "'Copy of 0610_嘉駿寄來的欄位內容.png'\n",
            "'Copy of 0621_data_original.zip'\n",
            "'Copy of profile.csv'\n",
            "'Copy of profile.gsheet'\n",
            "'Copy of result_y1.csv'\n",
            "'Copy of result_y1.gsheet'\n",
            "'Copy of result_y2.csv'\n",
            "'Copy of sr_1.csv'\n",
            "'Copy of sr_2.csv'\n",
            "'Copy of sr_3.csv'\n",
            "'Copy of sr_4.csv'\n",
            "'Copy of status.csv'\n",
            "'Copy of visa-merchant-data-standards-manual_用來對照sr_1.csv中的mcc欄位.pdf'\n",
            "'Copy of zip 對照表.xlsx'\n",
            "'Copy of 檔案欄位說明_MOOCS.XLSX'\n"
          ],
          "name": "stdout"
        }
      ]
    },
    {
      "cell_type": "code",
      "metadata": {
        "id": "2Hrx_j1vwDXn",
        "colab_type": "code",
        "colab": {}
      },
      "source": [
        "# 正式開始\n",
        "import pandas as pd\n",
        "import os.path\n",
        "import numpy as np"
      ],
      "execution_count": 0,
      "outputs": []
    },
    {
      "cell_type": "code",
      "metadata": {
        "id": "hxwJyFIO1vOe",
        "colab_type": "code",
        "colab": {}
      },
      "source": [
        "DATA_DIR='drive/My Drive/台新分析開發環境案客戶資料'\n",
        "status_fn = os.path.join(DATA_DIR, 'Copy of status.csv')\n",
        "status_df = pd.read_csv(status_fn)\n",
        "profile_fn = os.path.join(DATA_DIR, 'Copy of profile.csv')\n",
        "profile_df = pd.read_csv(profile_fn)"
      ],
      "execution_count": 0,
      "outputs": []
    },
    {
      "cell_type": "code",
      "metadata": {
        "id": "BZl63rGk2B2U",
        "colab_type": "code",
        "outputId": "74c18bc0-5cfa-456a-d1c3-85308d1bcf7d",
        "colab": {
          "base_uri": "https://localhost:8080/",
          "height": 223
        }
      },
      "source": [
        "status_df.head()"
      ],
      "execution_count": 5,
      "outputs": [
        {
          "output_type": "execute_result",
          "data": {
            "text/html": [
              "<div>\n",
              "<style scoped>\n",
              "    .dataframe tbody tr th:only-of-type {\n",
              "        vertical-align: middle;\n",
              "    }\n",
              "\n",
              "    .dataframe tbody tr th {\n",
              "        vertical-align: top;\n",
              "    }\n",
              "\n",
              "    .dataframe thead th {\n",
              "        text-align: right;\n",
              "    }\n",
              "</style>\n",
              "<table border=\"1\" class=\"dataframe\">\n",
              "  <thead>\n",
              "    <tr style=\"text-align: right;\">\n",
              "      <th></th>\n",
              "      <th>YYYYMM</th>\n",
              "      <th>CUST_NO</th>\n",
              "      <th>py_a</th>\n",
              "      <th>py_b</th>\n",
              "      <th>py_c</th>\n",
              "      <th>py_d</th>\n",
              "      <th>py_e</th>\n",
              "      <th>py_f</th>\n",
              "      <th>py_g</th>\n",
              "      <th>py_h</th>\n",
              "      <th>py_i</th>\n",
              "      <th>py_j</th>\n",
              "      <th>py_k</th>\n",
              "      <th>py_l</th>\n",
              "      <th>as_a</th>\n",
              "      <th>as_b</th>\n",
              "      <th>as_c</th>\n",
              "      <th>as_d</th>\n",
              "      <th>as_e</th>\n",
              "      <th>as_f</th>\n",
              "      <th>as_g</th>\n",
              "      <th>as_h</th>\n",
              "      <th>as_i</th>\n",
              "      <th>as_j</th>\n",
              "      <th>as_k</th>\n",
              "      <th>as_l</th>\n",
              "      <th>as_m</th>\n",
              "      <th>as_n</th>\n",
              "      <th>scr</th>\n",
              "    </tr>\n",
              "  </thead>\n",
              "  <tbody>\n",
              "    <tr>\n",
              "      <th>0</th>\n",
              "      <td>201807</td>\n",
              "      <td>9519340</td>\n",
              "      <td>24858</td>\n",
              "      <td>3014</td>\n",
              "      <td>4311</td>\n",
              "      <td>0</td>\n",
              "      <td>26422</td>\n",
              "      <td>21844</td>\n",
              "      <td>109323.0</td>\n",
              "      <td>105073.0</td>\n",
              "      <td>0.0</td>\n",
              "      <td>92955.0</td>\n",
              "      <td>4135.0</td>\n",
              "      <td>0.0</td>\n",
              "      <td>30</td>\n",
              "      <td>30</td>\n",
              "      <td>0</td>\n",
              "      <td>0</td>\n",
              "      <td>0</td>\n",
              "      <td>0</td>\n",
              "      <td>0</td>\n",
              "      <td>0</td>\n",
              "      <td>0</td>\n",
              "      <td>0</td>\n",
              "      <td>0</td>\n",
              "      <td>0</td>\n",
              "      <td>NaN</td>\n",
              "      <td>31416</td>\n",
              "      <td>419.0</td>\n",
              "    </tr>\n",
              "    <tr>\n",
              "      <th>1</th>\n",
              "      <td>201808</td>\n",
              "      <td>9519340</td>\n",
              "      <td>26422</td>\n",
              "      <td>3676</td>\n",
              "      <td>1473</td>\n",
              "      <td>0</td>\n",
              "      <td>24544</td>\n",
              "      <td>22747</td>\n",
              "      <td>108583.0</td>\n",
              "      <td>109323.0</td>\n",
              "      <td>0.0</td>\n",
              "      <td>97804.0</td>\n",
              "      <td>2130.0</td>\n",
              "      <td>0.0</td>\n",
              "      <td>30</td>\n",
              "      <td>30</td>\n",
              "      <td>0</td>\n",
              "      <td>0</td>\n",
              "      <td>0</td>\n",
              "      <td>0</td>\n",
              "      <td>0</td>\n",
              "      <td>0</td>\n",
              "      <td>0</td>\n",
              "      <td>0</td>\n",
              "      <td>0</td>\n",
              "      <td>0</td>\n",
              "      <td>NaN</td>\n",
              "      <td>31416</td>\n",
              "      <td>419.0</td>\n",
              "    </tr>\n",
              "    <tr>\n",
              "      <th>2</th>\n",
              "      <td>201809</td>\n",
              "      <td>9519340</td>\n",
              "      <td>24544</td>\n",
              "      <td>3693</td>\n",
              "      <td>4520</td>\n",
              "      <td>0</td>\n",
              "      <td>25620</td>\n",
              "      <td>20851</td>\n",
              "      <td>114245.0</td>\n",
              "      <td>108583.0</td>\n",
              "      <td>0.0</td>\n",
              "      <td>93801.0</td>\n",
              "      <td>814.0</td>\n",
              "      <td>0.0</td>\n",
              "      <td>30</td>\n",
              "      <td>30</td>\n",
              "      <td>0</td>\n",
              "      <td>0</td>\n",
              "      <td>0</td>\n",
              "      <td>0</td>\n",
              "      <td>0</td>\n",
              "      <td>0</td>\n",
              "      <td>0</td>\n",
              "      <td>0</td>\n",
              "      <td>0</td>\n",
              "      <td>0</td>\n",
              "      <td>NaN</td>\n",
              "      <td>31416</td>\n",
              "      <td>419.0</td>\n",
              "    </tr>\n",
              "    <tr>\n",
              "      <th>3</th>\n",
              "      <td>201810</td>\n",
              "      <td>9519340</td>\n",
              "      <td>25620</td>\n",
              "      <td>3515</td>\n",
              "      <td>8407</td>\n",
              "      <td>0</td>\n",
              "      <td>30798</td>\n",
              "      <td>22106</td>\n",
              "      <td>118071.0</td>\n",
              "      <td>114245.0</td>\n",
              "      <td>0.0</td>\n",
              "      <td>102422.0</td>\n",
              "      <td>1441.0</td>\n",
              "      <td>0.0</td>\n",
              "      <td>30</td>\n",
              "      <td>30</td>\n",
              "      <td>0</td>\n",
              "      <td>0</td>\n",
              "      <td>0</td>\n",
              "      <td>0</td>\n",
              "      <td>0</td>\n",
              "      <td>0</td>\n",
              "      <td>0</td>\n",
              "      <td>0</td>\n",
              "      <td>0</td>\n",
              "      <td>0</td>\n",
              "      <td>NaN</td>\n",
              "      <td>31416</td>\n",
              "      <td>419.0</td>\n",
              "    </tr>\n",
              "    <tr>\n",
              "      <th>4</th>\n",
              "      <td>201811</td>\n",
              "      <td>9519340</td>\n",
              "      <td>30798</td>\n",
              "      <td>3958</td>\n",
              "      <td>5309</td>\n",
              "      <td>0</td>\n",
              "      <td>32544</td>\n",
              "      <td>26840</td>\n",
              "      <td>122021.0</td>\n",
              "      <td>118071.0</td>\n",
              "      <td>0.0</td>\n",
              "      <td>105505.0</td>\n",
              "      <td>721.0</td>\n",
              "      <td>0.0</td>\n",
              "      <td>30</td>\n",
              "      <td>30</td>\n",
              "      <td>0</td>\n",
              "      <td>0</td>\n",
              "      <td>0</td>\n",
              "      <td>0</td>\n",
              "      <td>0</td>\n",
              "      <td>0</td>\n",
              "      <td>0</td>\n",
              "      <td>0</td>\n",
              "      <td>0</td>\n",
              "      <td>0</td>\n",
              "      <td>NaN</td>\n",
              "      <td>31416</td>\n",
              "      <td>315.0</td>\n",
              "    </tr>\n",
              "  </tbody>\n",
              "</table>\n",
              "</div>"
            ],
            "text/plain": [
              "   YYYYMM  CUST_NO   py_a  py_b  py_c  ...  as_k  as_l  as_m   as_n    scr\n",
              "0  201807  9519340  24858  3014  4311  ...     0     0   NaN  31416  419.0\n",
              "1  201808  9519340  26422  3676  1473  ...     0     0   NaN  31416  419.0\n",
              "2  201809  9519340  24544  3693  4520  ...     0     0   NaN  31416  419.0\n",
              "3  201810  9519340  25620  3515  8407  ...     0     0   NaN  31416  419.0\n",
              "4  201811  9519340  30798  3958  5309  ...     0     0   NaN  31416  315.0\n",
              "\n",
              "[5 rows x 29 columns]"
            ]
          },
          "metadata": {
            "tags": []
          },
          "execution_count": 5
        }
      ]
    },
    {
      "cell_type": "code",
      "metadata": {
        "id": "UZaerluP--kF",
        "colab_type": "code",
        "colab": {}
      },
      "source": [
        "profile_df.set_index('CUST_NO', inplace=True)"
      ],
      "execution_count": 0,
      "outputs": []
    },
    {
      "cell_type": "code",
      "metadata": {
        "id": "eL7GES5tB2bf",
        "colab_type": "code",
        "outputId": "757174d9-3cbb-4c1b-fdfb-74ff57d065cc",
        "colab": {
          "base_uri": "https://localhost:8080/",
          "height": 234
        }
      },
      "source": [
        "profile_df.head()"
      ],
      "execution_count": 7,
      "outputs": [
        {
          "output_type": "execute_result",
          "data": {
            "text/html": [
              "<div>\n",
              "<style scoped>\n",
              "    .dataframe tbody tr th:only-of-type {\n",
              "        vertical-align: middle;\n",
              "    }\n",
              "\n",
              "    .dataframe tbody tr th {\n",
              "        vertical-align: top;\n",
              "    }\n",
              "\n",
              "    .dataframe thead th {\n",
              "        text-align: right;\n",
              "    }\n",
              "</style>\n",
              "<table border=\"1\" class=\"dataframe\">\n",
              "  <thead>\n",
              "    <tr style=\"text-align: right;\">\n",
              "      <th></th>\n",
              "      <th>c_gender</th>\n",
              "      <th>n_age</th>\n",
              "      <th>c_zip</th>\n",
              "      <th>c_edu</th>\n",
              "      <th>c_mry</th>\n",
              "      <th>c_job</th>\n",
              "      <th>c_occp</th>\n",
              "      <th>a_incm_flg</th>\n",
              "      <th>x_flg_house</th>\n",
              "      <th>CAR_FLG</th>\n",
              "    </tr>\n",
              "    <tr>\n",
              "      <th>CUST_NO</th>\n",
              "      <th></th>\n",
              "      <th></th>\n",
              "      <th></th>\n",
              "      <th></th>\n",
              "      <th></th>\n",
              "      <th></th>\n",
              "      <th></th>\n",
              "      <th></th>\n",
              "      <th></th>\n",
              "      <th></th>\n",
              "    </tr>\n",
              "  </thead>\n",
              "  <tbody>\n",
              "    <tr>\n",
              "      <th>21969</th>\n",
              "      <td>M</td>\n",
              "      <td>48</td>\n",
              "      <td>110</td>\n",
              "      <td>4</td>\n",
              "      <td>S</td>\n",
              "      <td>106</td>\n",
              "      <td>901</td>\n",
              "      <td>6</td>\n",
              "      <td>1.0</td>\n",
              "      <td>0</td>\n",
              "    </tr>\n",
              "    <tr>\n",
              "      <th>24081</th>\n",
              "      <td>M</td>\n",
              "      <td>42</td>\n",
              "      <td>100</td>\n",
              "      <td>4</td>\n",
              "      <td>S</td>\n",
              "      <td>106</td>\n",
              "      <td>504</td>\n",
              "      <td>4</td>\n",
              "      <td>7.0</td>\n",
              "      <td>2</td>\n",
              "    </tr>\n",
              "    <tr>\n",
              "      <th>37917</th>\n",
              "      <td>M</td>\n",
              "      <td>59</td>\n",
              "      <td>100</td>\n",
              "      <td>5</td>\n",
              "      <td>S</td>\n",
              "      <td>508</td>\n",
              "      <td>0</td>\n",
              "      <td>5</td>\n",
              "      <td>99.0</td>\n",
              "      <td>2</td>\n",
              "    </tr>\n",
              "    <tr>\n",
              "      <th>38277</th>\n",
              "      <td>M</td>\n",
              "      <td>59</td>\n",
              "      <td>104</td>\n",
              "      <td>3</td>\n",
              "      <td>M</td>\n",
              "      <td>511</td>\n",
              "      <td>1101</td>\n",
              "      <td>3</td>\n",
              "      <td>9.0</td>\n",
              "      <td>2</td>\n",
              "    </tr>\n",
              "    <tr>\n",
              "      <th>38312</th>\n",
              "      <td>M</td>\n",
              "      <td>59</td>\n",
              "      <td>406</td>\n",
              "      <td>5</td>\n",
              "      <td>S</td>\n",
              "      <td>103</td>\n",
              "      <td>813</td>\n",
              "      <td>4</td>\n",
              "      <td>2.0</td>\n",
              "      <td>2</td>\n",
              "    </tr>\n",
              "  </tbody>\n",
              "</table>\n",
              "</div>"
            ],
            "text/plain": [
              "        c_gender  n_age  c_zip  c_edu  ... c_occp  a_incm_flg  x_flg_house  CAR_FLG\n",
              "CUST_NO                                ...                                         \n",
              "21969          M     48    110      4  ...    901           6          1.0        0\n",
              "24081          M     42    100      4  ...    504           4          7.0        2\n",
              "37917          M     59    100      5  ...      0           5         99.0        2\n",
              "38277          M     59    104      3  ...   1101           3          9.0        2\n",
              "38312          M     59    406      5  ...    813           4          2.0        2\n",
              "\n",
              "[5 rows x 10 columns]"
            ]
          },
          "metadata": {
            "tags": []
          },
          "execution_count": 7
        }
      ]
    },
    {
      "cell_type": "code",
      "metadata": {
        "id": "QanCUGl1MnSu",
        "colab_type": "code",
        "colab": {}
      },
      "source": [
        "import re\n",
        "pys = re.findall(r\"\\S+\", \"py_a\tpy_b\tpy_c\tpy_d\tpy_e\tpy_f\tpy_g\tpy_h\tpy_i\tpy_j\tpy_k\tpy_l\")"
      ],
      "execution_count": 0,
      "outputs": []
    },
    {
      "cell_type": "code",
      "metadata": {
        "id": "pz-VU86qNcOM",
        "colab_type": "code",
        "colab": {
          "base_uri": "https://localhost:8080/",
          "height": 234
        },
        "outputId": "db40f153-5be1-44c5-c8ef-487c2b1aed22"
      },
      "source": [
        "status_mean_df = status_df[['CUST_NO'] + pys].groupby('CUST_NO').mean()\n",
        "status_mean_df.head()"
      ],
      "execution_count": 9,
      "outputs": [
        {
          "output_type": "execute_result",
          "data": {
            "text/html": [
              "<div>\n",
              "<style scoped>\n",
              "    .dataframe tbody tr th:only-of-type {\n",
              "        vertical-align: middle;\n",
              "    }\n",
              "\n",
              "    .dataframe tbody tr th {\n",
              "        vertical-align: top;\n",
              "    }\n",
              "\n",
              "    .dataframe thead th {\n",
              "        text-align: right;\n",
              "    }\n",
              "</style>\n",
              "<table border=\"1\" class=\"dataframe\">\n",
              "  <thead>\n",
              "    <tr style=\"text-align: right;\">\n",
              "      <th></th>\n",
              "      <th>py_a</th>\n",
              "      <th>py_b</th>\n",
              "      <th>py_c</th>\n",
              "      <th>py_d</th>\n",
              "      <th>py_e</th>\n",
              "      <th>py_f</th>\n",
              "      <th>py_g</th>\n",
              "      <th>py_h</th>\n",
              "      <th>py_i</th>\n",
              "      <th>py_j</th>\n",
              "      <th>py_k</th>\n",
              "      <th>py_l</th>\n",
              "    </tr>\n",
              "    <tr>\n",
              "      <th>CUST_NO</th>\n",
              "      <th></th>\n",
              "      <th></th>\n",
              "      <th></th>\n",
              "      <th></th>\n",
              "      <th></th>\n",
              "      <th></th>\n",
              "      <th></th>\n",
              "      <th></th>\n",
              "      <th></th>\n",
              "      <th></th>\n",
              "      <th></th>\n",
              "      <th></th>\n",
              "    </tr>\n",
              "  </thead>\n",
              "  <tbody>\n",
              "    <tr>\n",
              "      <th>21969</th>\n",
              "      <td>13664.833333</td>\n",
              "      <td>14206.333333</td>\n",
              "      <td>14206.000000</td>\n",
              "      <td>0.0</td>\n",
              "      <td>13664.833333</td>\n",
              "      <td>0.0</td>\n",
              "      <td>12152.666667</td>\n",
              "      <td>15818.833333</td>\n",
              "      <td>0.0</td>\n",
              "      <td>0.0</td>\n",
              "      <td>0.000000</td>\n",
              "      <td>0.0</td>\n",
              "    </tr>\n",
              "    <tr>\n",
              "      <th>24081</th>\n",
              "      <td>31912.500000</td>\n",
              "      <td>32696.333333</td>\n",
              "      <td>33099.833333</td>\n",
              "      <td>0.0</td>\n",
              "      <td>32316.000000</td>\n",
              "      <td>0.0</td>\n",
              "      <td>12512.666667</td>\n",
              "      <td>13963.833333</td>\n",
              "      <td>0.0</td>\n",
              "      <td>0.0</td>\n",
              "      <td>1935.833333</td>\n",
              "      <td>0.0</td>\n",
              "    </tr>\n",
              "    <tr>\n",
              "      <th>37917</th>\n",
              "      <td>9684.000000</td>\n",
              "      <td>9724.500000</td>\n",
              "      <td>6647.166667</td>\n",
              "      <td>0.0</td>\n",
              "      <td>6606.666667</td>\n",
              "      <td>0.0</td>\n",
              "      <td>0.000000</td>\n",
              "      <td>0.000000</td>\n",
              "      <td>0.0</td>\n",
              "      <td>0.0</td>\n",
              "      <td>0.000000</td>\n",
              "      <td>0.0</td>\n",
              "    </tr>\n",
              "    <tr>\n",
              "      <th>38277</th>\n",
              "      <td>8658.500000</td>\n",
              "      <td>9266.000000</td>\n",
              "      <td>9334.000000</td>\n",
              "      <td>0.0</td>\n",
              "      <td>8726.500000</td>\n",
              "      <td>0.0</td>\n",
              "      <td>7637.833333</td>\n",
              "      <td>35154.333333</td>\n",
              "      <td>0.0</td>\n",
              "      <td>0.0</td>\n",
              "      <td>0.000000</td>\n",
              "      <td>0.0</td>\n",
              "    </tr>\n",
              "    <tr>\n",
              "      <th>38312</th>\n",
              "      <td>294.833333</td>\n",
              "      <td>294.833333</td>\n",
              "      <td>209.500000</td>\n",
              "      <td>0.0</td>\n",
              "      <td>209.500000</td>\n",
              "      <td>0.0</td>\n",
              "      <td>3325.166667</td>\n",
              "      <td>3120.833333</td>\n",
              "      <td>0.0</td>\n",
              "      <td>0.0</td>\n",
              "      <td>0.000000</td>\n",
              "      <td>0.0</td>\n",
              "    </tr>\n",
              "  </tbody>\n",
              "</table>\n",
              "</div>"
            ],
            "text/plain": [
              "                 py_a          py_b          py_c  ...  py_j         py_k  py_l\n",
              "CUST_NO                                            ...                         \n",
              "21969    13664.833333  14206.333333  14206.000000  ...   0.0     0.000000   0.0\n",
              "24081    31912.500000  32696.333333  33099.833333  ...   0.0  1935.833333   0.0\n",
              "37917     9684.000000   9724.500000   6647.166667  ...   0.0     0.000000   0.0\n",
              "38277     8658.500000   9266.000000   9334.000000  ...   0.0     0.000000   0.0\n",
              "38312      294.833333    294.833333    209.500000  ...   0.0     0.000000   0.0\n",
              "\n",
              "[5 rows x 12 columns]"
            ]
          },
          "metadata": {
            "tags": []
          },
          "execution_count": 9
        }
      ]
    },
    {
      "cell_type": "code",
      "metadata": {
        "id": "CH8pngEsefjJ",
        "colab_type": "code",
        "colab": {
          "base_uri": "https://localhost:8080/",
          "height": 247
        },
        "outputId": "5aa93f48-b0c4-4683-91fa-8254e8308c9d"
      },
      "source": [
        "# 檢查是否有 NA\n",
        "status_mean_df.isna().any()"
      ],
      "execution_count": 10,
      "outputs": [
        {
          "output_type": "execute_result",
          "data": {
            "text/plain": [
              "py_a    False\n",
              "py_b    False\n",
              "py_c    False\n",
              "py_d    False\n",
              "py_e    False\n",
              "py_f    False\n",
              "py_g     True\n",
              "py_h     True\n",
              "py_i     True\n",
              "py_j     True\n",
              "py_k     True\n",
              "py_l     True\n",
              "dtype: bool"
            ]
          },
          "metadata": {
            "tags": []
          },
          "execution_count": 10
        }
      ]
    },
    {
      "cell_type": "code",
      "metadata": {
        "id": "BQedYeEBeszH",
        "colab_type": "code",
        "colab": {}
      },
      "source": [
        "status_mean_df.fillna(0, inplace=True)"
      ],
      "execution_count": 0,
      "outputs": []
    },
    {
      "cell_type": "code",
      "metadata": {
        "id": "1i2ASInFfoFy",
        "colab_type": "code",
        "colab": {}
      },
      "source": [
        ""
      ],
      "execution_count": 0,
      "outputs": []
    },
    {
      "cell_type": "code",
      "metadata": {
        "id": "HAxcPZEjN46F",
        "colab_type": "code",
        "colab": {
          "base_uri": "https://localhost:8080/",
          "height": 269
        },
        "outputId": "45841f1a-c862-4053-c20c-b8ff563df649"
      },
      "source": [
        "import matplotlib.pyplot as plt\n",
        "y = profile_df.c_gender[status_mean_df.index]\n",
        "X = status_mean_df[['py_f', 'py_c']].values.astype('float')\n",
        "y2 = (y =='M')\n",
        "# 標出 sample 點\n",
        "plt.scatter(X[:10000,0], X[:10000, 1],  c=y2[:10000], cmap=plt.cm.rainbow, zorder=10, s=1);\n"
      ],
      "execution_count": 12,
      "outputs": [
        {
          "output_type": "display_data",
          "data": {
            "image/png": "[encoded data removed]",
            "text/plain": [
              "<Figure size 432x288 with 1 Axes>"
            ]
          },
          "metadata": {
            "tags": []
          }
        }
      ]
    },
    {
      "cell_type": "code",
      "metadata": {
        "id": "XSgBo9_yOwwB",
        "colab_type": "code",
        "colab": {}
      },
      "source": [
        "from sklearn.model_selection import train_test_split\n",
        "X_train, X_test, y_train, y_test =train_test_split(status_mean_df, y2, test_size=0.95, random_state=42)"
      ],
      "execution_count": 0,
      "outputs": []
    },
    {
      "cell_type": "code",
      "metadata": {
        "id": "7szsP6aQQF_L",
        "colab_type": "code",
        "colab": {
          "base_uri": "https://localhost:8080/",
          "height": 35
        },
        "outputId": "0f2f4d58-40c2-46c1-9c6c-ce983acaa7e1"
      },
      "source": [
        "X_train.shape"
      ],
      "execution_count": 85,
      "outputs": [
        {
          "output_type": "execute_result",
          "data": {
            "text/plain": [
              "(12454, 12)"
            ]
          },
          "metadata": {
            "tags": []
          },
          "execution_count": 85
        }
      ]
    },
    {
      "cell_type": "code",
      "metadata": {
        "id": "qT5DSxHEgatK",
        "colab_type": "code",
        "colab": {
          "base_uri": "https://localhost:8080/",
          "height": 35
        },
        "outputId": "92772278-a420-4db5-bc98-5583ca7352bf"
      },
      "source": [
        "X_test.shape"
      ],
      "execution_count": 86,
      "outputs": [
        {
          "output_type": "execute_result",
          "data": {
            "text/plain": [
              "(236635, 12)"
            ]
          },
          "metadata": {
            "tags": []
          },
          "execution_count": 86
        }
      ]
    },
    {
      "cell_type": "code",
      "metadata": {
        "id": "OReMRAo4Pv4F",
        "colab_type": "code",
        "colab": {
          "base_uri": "https://localhost:8080/",
          "height": 161
        },
        "outputId": "7d4f4a15-9165-46f7-b334-1ebd704009b1"
      },
      "source": [
        "from sklearn.linear_model import LogisticRegression\n",
        "model = LogisticRegression()\n",
        "model.fit(np.array(X_train), np.int64(y_train) )"
      ],
      "execution_count": 87,
      "outputs": [
        {
          "output_type": "stream",
          "text": [
            "/usr/local/lib/python3.6/dist-packages/sklearn/linear_model/logistic.py:432: FutureWarning: Default solver will be changed to 'lbfgs' in 0.22. Specify a solver to silence this warning.\n",
            "  FutureWarning)\n"
          ],
          "name": "stderr"
        },
        {
          "output_type": "execute_result",
          "data": {
            "text/plain": [
              "LogisticRegression(C=1.0, class_weight=None, dual=False, fit_intercept=True,\n",
              "                   intercept_scaling=1, l1_ratio=None, max_iter=100,\n",
              "                   multi_class='warn', n_jobs=None, penalty='l2',\n",
              "                   random_state=None, solver='warn', tol=0.0001, verbose=0,\n",
              "                   warm_start=False)"
            ]
          },
          "metadata": {
            "tags": []
          },
          "execution_count": 87
        }
      ]
    },
    {
      "cell_type": "code",
      "metadata": {
        "id": "niIUB_2fkfim",
        "colab_type": "code",
        "colab": {
          "base_uri": "https://localhost:8080/",
          "height": 52
        },
        "outputId": "e8927267-f9cd-411a-e3e9-a2d7b5479bdf"
      },
      "source": [
        "print(model.score(X_train, y_train))\n",
        "print(model.score(X_test, y_test))"
      ],
      "execution_count": 90,
      "outputs": [
        {
          "output_type": "stream",
          "text": [
            "0.6377870563674322\n",
            "0.6327043759376254\n"
          ],
          "name": "stdout"
        }
      ]
    },
    {
      "cell_type": "code",
      "metadata": {
        "id": "WWM1D0qbjd7K",
        "colab_type": "code",
        "colab": {
          "base_uri": "https://localhost:8080/",
          "height": 161
        },
        "outputId": "a338d8e4-5012-4be5-dcd2-ab91945e5744"
      },
      "source": [
        "m, s = X_train.mean(), X_train.std()\n",
        "model.fit(np.array( (X_train-m)/s ), np.int64(y_train) )"
      ],
      "execution_count": 91,
      "outputs": [
        {
          "output_type": "stream",
          "text": [
            "/usr/local/lib/python3.6/dist-packages/sklearn/linear_model/logistic.py:432: FutureWarning: Default solver will be changed to 'lbfgs' in 0.22. Specify a solver to silence this warning.\n",
            "  FutureWarning)\n"
          ],
          "name": "stderr"
        },
        {
          "output_type": "execute_result",
          "data": {
            "text/plain": [
              "LogisticRegression(C=1.0, class_weight=None, dual=False, fit_intercept=True,\n",
              "                   intercept_scaling=1, l1_ratio=None, max_iter=100,\n",
              "                   multi_class='warn', n_jobs=None, penalty='l2',\n",
              "                   random_state=None, solver='warn', tol=0.0001, verbose=0,\n",
              "                   warm_start=False)"
            ]
          },
          "metadata": {
            "tags": []
          },
          "execution_count": 91
        }
      ]
    },
    {
      "cell_type": "code",
      "metadata": {
        "id": "50MYCj0dR8U5",
        "colab_type": "code",
        "colab": {
          "base_uri": "https://localhost:8080/",
          "height": 52
        },
        "outputId": "cf468951-5d60-4838-b521-ae0acb39a75f"
      },
      "source": [
        "print(model.score((X_train-m)/s, y_train))\n",
        "print(model.score((X_test-m)/s, y_test))"
      ],
      "execution_count": 94,
      "outputs": [
        {
          "output_type": "stream",
          "text": [
            "0.6387506022161554\n",
            "0.6334650410970482\n"
          ],
          "name": "stdout"
        }
      ]
    },
    {
      "cell_type": "code",
      "metadata": {
        "id": "cL7gPkXRQjau",
        "colab_type": "code",
        "colab": {
          "base_uri": "https://localhost:8080/",
          "height": 143
        },
        "outputId": "4b6d5f3e-8fe9-40bf-d0d3-c16b32d5dbe2"
      },
      "source": [
        "from sklearn.svm import SVC\n",
        "model = SVC()\n",
        "model.fit(np.array(X_train), np.int64(y_train) )"
      ],
      "execution_count": 77,
      "outputs": [
        {
          "output_type": "stream",
          "text": [
            "/usr/local/lib/python3.6/dist-packages/sklearn/svm/base.py:193: FutureWarning: The default value of gamma will change from 'auto' to 'scale' in version 0.22 to account better for unscaled features. Set gamma explicitly to 'auto' or 'scale' to avoid this warning.\n",
            "  \"avoid this warning.\", FutureWarning)\n"
          ],
          "name": "stderr"
        },
        {
          "output_type": "execute_result",
          "data": {
            "text/plain": [
              "SVC(C=1.0, cache_size=200, class_weight=None, coef0=0.0,\n",
              "    decision_function_shape='ovr', degree=3, gamma='auto_deprecated',\n",
              "    kernel='rbf', max_iter=-1, probability=False, random_state=None,\n",
              "    shrinking=True, tol=0.001, verbose=False)"
            ]
          },
          "metadata": {
            "tags": []
          },
          "execution_count": 77
        }
      ]
    },
    {
      "cell_type": "code",
      "metadata": {
        "id": "F92cJitiRiFI",
        "colab_type": "code",
        "colab": {
          "base_uri": "https://localhost:8080/",
          "height": 35
        },
        "outputId": "f6fe6c94-b1b7-4ddf-ded0-7a6683cf1039"
      },
      "source": [
        "model.score(X_train, y_train)"
      ],
      "execution_count": 78,
      "outputs": [
        {
          "output_type": "execute_result",
          "data": {
            "text/plain": [
              "0.9979926128151598"
            ]
          },
          "metadata": {
            "tags": []
          },
          "execution_count": 78
        }
      ]
    },
    {
      "cell_type": "code",
      "metadata": {
        "id": "fUxDodYdSS7B",
        "colab_type": "code",
        "colab": {
          "base_uri": "https://localhost:8080/",
          "height": 35
        },
        "outputId": "05bf6217-7de8-41b4-b83e-e0dbdd78557c"
      },
      "source": [
        "model.score(X_test[:10000], y_test[:10000])"
      ],
      "execution_count": 79,
      "outputs": [
        {
          "output_type": "execute_result",
          "data": {
            "text/plain": [
              "0.6258"
            ]
          },
          "metadata": {
            "tags": []
          },
          "execution_count": 79
        }
      ]
    },
    {
      "cell_type": "code",
      "metadata": {
        "id": "5wGiKgnuiGRe",
        "colab_type": "code",
        "colab": {
          "base_uri": "https://localhost:8080/",
          "height": 406
        },
        "outputId": "8724da05-084d-408c-e3d0-7f3396a155f8"
      },
      "source": [
        "from sklearn.neural_network import MLPClassifier\n",
        "model = MLPClassifier(hidden_layer_sizes=(512, 128, 32), activation='relu')\n",
        "m, s = X_train.mean(), X_train.std()\n",
        "model.fit(np.array( (X_train-m)/s ), np.int64(y_train) )\n",
        "print(model.score((X_train-m)/s, np.int64(y_train)))\n",
        "print(model.score((X_test-m)/s, np.int64(y_test)))"
      ],
      "execution_count": 107,
      "outputs": [
        {
          "output_type": "stream",
          "text": [
            "/usr/local/lib/python3.6/dist-packages/sklearn/neural_network/multilayer_perceptron.py:568: UserWarning: Training interrupted by user.\n",
            "  warnings.warn(\"Training interrupted by user.\")\n"
          ],
          "name": "stderr"
        },
        {
          "output_type": "error",
          "ename": "KeyboardInterrupt",
          "evalue": "ignored",
          "traceback": [
            "\u001b[0;31m---------------------------------------------------------------------------\u001b[0m",
            "\u001b[0;31mKeyboardInterrupt\u001b[0m                         Traceback (most recent call last)",
            "\u001b[0;32m<ipython-input-107-92d20994a2ff>\u001b[0m in \u001b[0;36m<module>\u001b[0;34m()\u001b[0m\n\u001b[1;32m      3\u001b[0m \u001b[0mm\u001b[0m\u001b[0;34m,\u001b[0m \u001b[0ms\u001b[0m \u001b[0;34m=\u001b[0m \u001b[0mX_train\u001b[0m\u001b[0;34m.\u001b[0m\u001b[0mmean\u001b[0m\u001b[0;34m(\u001b[0m\u001b[0;34m)\u001b[0m\u001b[0;34m,\u001b[0m \u001b[0mX_train\u001b[0m\u001b[0;34m.\u001b[0m\u001b[0mstd\u001b[0m\u001b[0;34m(\u001b[0m\u001b[0;34m)\u001b[0m\u001b[0;34m\u001b[0m\u001b[0;34m\u001b[0m\u001b[0m\n\u001b[1;32m      4\u001b[0m \u001b[0mmodel\u001b[0m\u001b[0;34m.\u001b[0m\u001b[0mfit\u001b[0m\u001b[0;34m(\u001b[0m\u001b[0mnp\u001b[0m\u001b[0;34m.\u001b[0m\u001b[0marray\u001b[0m\u001b[0;34m(\u001b[0m \u001b[0;34m(\u001b[0m\u001b[0mX_train\u001b[0m\u001b[0;34m-\u001b[0m\u001b[0mm\u001b[0m\u001b[0;34m)\u001b[0m\u001b[0;34m/\u001b[0m\u001b[0ms\u001b[0m \u001b[0;34m)\u001b[0m\u001b[0;34m,\u001b[0m \u001b[0mnp\u001b[0m\u001b[0;34m.\u001b[0m\u001b[0mint64\u001b[0m\u001b[0;34m(\u001b[0m\u001b[0my_train\u001b[0m\u001b[0;34m)\u001b[0m \u001b[0;34m)\u001b[0m\u001b[0;34m\u001b[0m\u001b[0;34m\u001b[0m\u001b[0m\n\u001b[0;32m----> 5\u001b[0;31m \u001b[0mprint\u001b[0m\u001b[0;34m(\u001b[0m\u001b[0mmodel\u001b[0m\u001b[0;34m.\u001b[0m\u001b[0mscore\u001b[0m\u001b[0;34m(\u001b[0m\u001b[0;34m(\u001b[0m\u001b[0mX_train\u001b[0m\u001b[0;34m-\u001b[0m\u001b[0mm\u001b[0m\u001b[0;34m)\u001b[0m\u001b[0;34m/\u001b[0m\u001b[0ms\u001b[0m\u001b[0;34m,\u001b[0m \u001b[0mnp\u001b[0m\u001b[0;34m.\u001b[0m\u001b[0mint64\u001b[0m\u001b[0;34m(\u001b[0m\u001b[0my_train\u001b[0m\u001b[0;34m)\u001b[0m\u001b[0;34m)\u001b[0m\u001b[0;34m)\u001b[0m\u001b[0;34m\u001b[0m\u001b[0;34m\u001b[0m\u001b[0m\n\u001b[0m\u001b[1;32m      6\u001b[0m \u001b[0mprint\u001b[0m\u001b[0;34m(\u001b[0m\u001b[0mmodel\u001b[0m\u001b[0;34m.\u001b[0m\u001b[0mscore\u001b[0m\u001b[0;34m(\u001b[0m\u001b[0;34m(\u001b[0m\u001b[0mX_test\u001b[0m\u001b[0;34m-\u001b[0m\u001b[0mm\u001b[0m\u001b[0;34m)\u001b[0m\u001b[0;34m/\u001b[0m\u001b[0ms\u001b[0m\u001b[0;34m,\u001b[0m \u001b[0mnp\u001b[0m\u001b[0;34m.\u001b[0m\u001b[0mint64\u001b[0m\u001b[0;34m(\u001b[0m\u001b[0my_test\u001b[0m\u001b[0;34m)\u001b[0m\u001b[0;34m)\u001b[0m\u001b[0;34m)\u001b[0m\u001b[0;34m\u001b[0m\u001b[0;34m\u001b[0m\u001b[0m\n",
            "\u001b[0;32m/usr/local/lib/python3.6/dist-packages/sklearn/base.py\u001b[0m in \u001b[0;36mscore\u001b[0;34m(self, X, y, sample_weight)\u001b[0m\n\u001b[1;32m    355\u001b[0m         \"\"\"\n\u001b[1;32m    356\u001b[0m         \u001b[0;32mfrom\u001b[0m \u001b[0;34m.\u001b[0m\u001b[0mmetrics\u001b[0m \u001b[0;32mimport\u001b[0m \u001b[0maccuracy_score\u001b[0m\u001b[0;34m\u001b[0m\u001b[0;34m\u001b[0m\u001b[0m\n\u001b[0;32m--> 357\u001b[0;31m         \u001b[0;32mreturn\u001b[0m \u001b[0maccuracy_score\u001b[0m\u001b[0;34m(\u001b[0m\u001b[0my\u001b[0m\u001b[0;34m,\u001b[0m \u001b[0mself\u001b[0m\u001b[0;34m.\u001b[0m\u001b[0mpredict\u001b[0m\u001b[0;34m(\u001b[0m\u001b[0mX\u001b[0m\u001b[0;34m)\u001b[0m\u001b[0;34m,\u001b[0m \u001b[0msample_weight\u001b[0m\u001b[0;34m=\u001b[0m\u001b[0msample_weight\u001b[0m\u001b[0;34m)\u001b[0m\u001b[0;34m\u001b[0m\u001b[0;34m\u001b[0m\u001b[0m\n\u001b[0m\u001b[1;32m    358\u001b[0m \u001b[0;34m\u001b[0m\u001b[0m\n\u001b[1;32m    359\u001b[0m \u001b[0;34m\u001b[0m\u001b[0m\n",
            "\u001b[0;32m/usr/local/lib/python3.6/dist-packages/sklearn/neural_network/multilayer_perceptron.py\u001b[0m in \u001b[0;36mpredict\u001b[0;34m(self, X)\u001b[0m\n\u001b[1;32m    956\u001b[0m         \"\"\"\n\u001b[1;32m    957\u001b[0m         \u001b[0mcheck_is_fitted\u001b[0m\u001b[0;34m(\u001b[0m\u001b[0mself\u001b[0m\u001b[0;34m,\u001b[0m \u001b[0;34m\"coefs_\"\u001b[0m\u001b[0;34m)\u001b[0m\u001b[0;34m\u001b[0m\u001b[0;34m\u001b[0m\u001b[0m\n\u001b[0;32m--> 958\u001b[0;31m         \u001b[0my_pred\u001b[0m \u001b[0;34m=\u001b[0m \u001b[0mself\u001b[0m\u001b[0;34m.\u001b[0m\u001b[0m_predict\u001b[0m\u001b[0;34m(\u001b[0m\u001b[0mX\u001b[0m\u001b[0;34m)\u001b[0m\u001b[0;34m\u001b[0m\u001b[0;34m\u001b[0m\u001b[0m\n\u001b[0m\u001b[1;32m    959\u001b[0m \u001b[0;34m\u001b[0m\u001b[0m\n\u001b[1;32m    960\u001b[0m         \u001b[0;32mif\u001b[0m \u001b[0mself\u001b[0m\u001b[0;34m.\u001b[0m\u001b[0mn_outputs_\u001b[0m \u001b[0;34m==\u001b[0m \u001b[0;36m1\u001b[0m\u001b[0;34m:\u001b[0m\u001b[0;34m\u001b[0m\u001b[0;34m\u001b[0m\u001b[0m\n",
            "\u001b[0;32m/usr/local/lib/python3.6/dist-packages/sklearn/neural_network/multilayer_perceptron.py\u001b[0m in \u001b[0;36m_predict\u001b[0;34m(self, X)\u001b[0m\n\u001b[1;32m    678\u001b[0m                                          layer_units[i + 1])))\n\u001b[1;32m    679\u001b[0m         \u001b[0;31m# forward propagate\u001b[0m\u001b[0;34m\u001b[0m\u001b[0;34m\u001b[0m\u001b[0;34m\u001b[0m\u001b[0m\n\u001b[0;32m--> 680\u001b[0;31m         \u001b[0mself\u001b[0m\u001b[0;34m.\u001b[0m\u001b[0m_forward_pass\u001b[0m\u001b[0;34m(\u001b[0m\u001b[0mactivations\u001b[0m\u001b[0;34m)\u001b[0m\u001b[0;34m\u001b[0m\u001b[0;34m\u001b[0m\u001b[0m\n\u001b[0m\u001b[1;32m    681\u001b[0m         \u001b[0my_pred\u001b[0m \u001b[0;34m=\u001b[0m \u001b[0mactivations\u001b[0m\u001b[0;34m[\u001b[0m\u001b[0;34m-\u001b[0m\u001b[0;36m1\u001b[0m\u001b[0;34m]\u001b[0m\u001b[0;34m\u001b[0m\u001b[0;34m\u001b[0m\u001b[0m\n\u001b[1;32m    682\u001b[0m \u001b[0;34m\u001b[0m\u001b[0m\n",
            "\u001b[0;32m/usr/local/lib/python3.6/dist-packages/sklearn/neural_network/multilayer_perceptron.py\u001b[0m in \u001b[0;36m_forward_pass\u001b[0;34m(self, activations)\u001b[0m\n\u001b[1;32m     99\u001b[0m         \u001b[0;32mfor\u001b[0m \u001b[0mi\u001b[0m \u001b[0;32min\u001b[0m \u001b[0mrange\u001b[0m\u001b[0;34m(\u001b[0m\u001b[0mself\u001b[0m\u001b[0;34m.\u001b[0m\u001b[0mn_layers_\u001b[0m \u001b[0;34m-\u001b[0m \u001b[0;36m1\u001b[0m\u001b[0;34m)\u001b[0m\u001b[0;34m:\u001b[0m\u001b[0;34m\u001b[0m\u001b[0;34m\u001b[0m\u001b[0m\n\u001b[1;32m    100\u001b[0m             activations[i + 1] = safe_sparse_dot(activations[i],\n\u001b[0;32m--> 101\u001b[0;31m                                                  self.coefs_[i])\n\u001b[0m\u001b[1;32m    102\u001b[0m             \u001b[0mactivations\u001b[0m\u001b[0;34m[\u001b[0m\u001b[0mi\u001b[0m \u001b[0;34m+\u001b[0m \u001b[0;36m1\u001b[0m\u001b[0;34m]\u001b[0m \u001b[0;34m+=\u001b[0m \u001b[0mself\u001b[0m\u001b[0;34m.\u001b[0m\u001b[0mintercepts_\u001b[0m\u001b[0;34m[\u001b[0m\u001b[0mi\u001b[0m\u001b[0;34m]\u001b[0m\u001b[0;34m\u001b[0m\u001b[0;34m\u001b[0m\u001b[0m\n\u001b[1;32m    103\u001b[0m \u001b[0;34m\u001b[0m\u001b[0m\n",
            "\u001b[0;32m/usr/local/lib/python3.6/dist-packages/sklearn/utils/extmath.py\u001b[0m in \u001b[0;36msafe_sparse_dot\u001b[0;34m(a, b, dense_output)\u001b[0m\n\u001b[1;32m    140\u001b[0m         \u001b[0;32mreturn\u001b[0m \u001b[0mret\u001b[0m\u001b[0;34m\u001b[0m\u001b[0;34m\u001b[0m\u001b[0m\n\u001b[1;32m    141\u001b[0m     \u001b[0;32melse\u001b[0m\u001b[0;34m:\u001b[0m\u001b[0;34m\u001b[0m\u001b[0;34m\u001b[0m\u001b[0m\n\u001b[0;32m--> 142\u001b[0;31m         \u001b[0;32mreturn\u001b[0m \u001b[0mnp\u001b[0m\u001b[0;34m.\u001b[0m\u001b[0mdot\u001b[0m\u001b[0;34m(\u001b[0m\u001b[0ma\u001b[0m\u001b[0;34m,\u001b[0m \u001b[0mb\u001b[0m\u001b[0;34m)\u001b[0m\u001b[0;34m\u001b[0m\u001b[0;34m\u001b[0m\u001b[0m\n\u001b[0m\u001b[1;32m    143\u001b[0m \u001b[0;34m\u001b[0m\u001b[0m\n\u001b[1;32m    144\u001b[0m \u001b[0;34m\u001b[0m\u001b[0m\n",
            "\u001b[0;31mKeyboardInterrupt\u001b[0m: "
          ]
        }
      ]
    },
    {
      "cell_type": "code",
      "metadata": {
        "id": "T_Pq8lnNtJQq",
        "colab_type": "code",
        "colab": {
          "base_uri": "https://localhost:8080/",
          "height": 52
        },
        "outputId": "1c395562-2f4e-4daa-94ad-61ad962eb465"
      },
      "source": [
        "print(model.score((X_train-m)/s, np.int64(y_train)))\n",
        "print(model.score((X_test-m)/s, np.int64(y_test)))"
      ],
      "execution_count": 108,
      "outputs": [
        {
          "output_type": "stream",
          "text": [
            "0.6691089387156994\n",
            "0.6196304548556747\n"
          ],
          "name": "stdout"
        }
      ]
    },
    {
      "cell_type": "code",
      "metadata": {
        "id": "hBrGLxsnoSfi",
        "colab_type": "code",
        "colab": {}
      },
      "source": [
        "from sklearn.model_selection import train_test_split\n",
        "X_train, X_test, y_train, y_test =train_test_split(status_mean_df, y2, test_size=0.95, random_state=42)"
      ],
      "execution_count": 0,
      "outputs": []
    },
    {
      "cell_type": "code",
      "metadata": {
        "id": "ygTe_x-MFHxN",
        "colab_type": "code",
        "colab": {
          "base_uri": "https://localhost:8080/",
          "height": 35
        },
        "outputId": "794bc6a2-a5fd-4793-bb25-e6484c5a146e"
      },
      "source": [
        "X_train.shape"
      ],
      "execution_count": 71,
      "outputs": [
        {
          "output_type": "execute_result",
          "data": {
            "text/plain": [
              "(12454, 12)"
            ]
          },
          "metadata": {
            "tags": []
          },
          "execution_count": 71
        }
      ]
    },
    {
      "cell_type": "code",
      "metadata": {
        "id": "eP2u4Uz1Ep4S",
        "colab_type": "code",
        "colab": {}
      },
      "source": [
        "from tensorflow.keras.layers import Dense, BatchNormalization, LeakyReLU, Dropout, Activation\n",
        "from tensorflow.keras.models import Sequential\n",
        "from tensorflow.keras.optimizers import Adam\n",
        "\n",
        "model = Sequential([\n",
        "                    Dense(128, input_shape=(12,), use_bias=False),\n",
        "                    BatchNormalization(),\n",
        "                    LeakyReLU(),\n",
        "                    Dense(2048, use_bias=False),\n",
        "                    BatchNormalization(),\n",
        "                    LeakyReLU(),\n",
        "                    Dense(256, use_bias=False),\n",
        "                    BatchNormalization(),\n",
        "                    LeakyReLU(),\n",
        "                    #Dropout(0.5),\n",
        "                    Dense(256, use_bias=False),\n",
        "                    BatchNormalization(),\n",
        "                    LeakyReLU(),\n",
        "                    #Dropout(0.5),\n",
        "                    Dense(128, use_bias=False),\n",
        "                    BatchNormalization(),\n",
        "                    LeakyReLU(),                   \n",
        "\n",
        "                    Dense(1, activation='sigmoid'),\n",
        "])\n",
        "\n"
      ],
      "execution_count": 0,
      "outputs": []
    },
    {
      "cell_type": "code",
      "metadata": {
        "id": "nTxTzJ8GGIbf",
        "colab_type": "code",
        "colab": {}
      },
      "source": [
        "model.compile(loss='binary_crossentropy', optimizer=Adam(lr=1e-4), metrics=['accuracy'])"
      ],
      "execution_count": 0,
      "outputs": []
    }
  ]
}