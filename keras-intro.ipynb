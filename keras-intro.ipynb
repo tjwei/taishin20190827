{
  "nbformat": 4,
  "nbformat_minor": 0,
  "metadata": {
    "kernelspec": {
      "display_name": "Python 3",
      "language": "python",
      "name": "python3"
    },
    "language_info": {
      "codemirror_mode": {
        "name": "ipython",
        "version": 3
      },
      "file_extension": ".py",
      "mimetype": "text/x-python",
      "name": "python",
      "nbconvert_exporter": "python",
      "pygments_lexer": "ipython3",
      "version": "3.6.5"
    },
    "colab": {
      "name": "06-keras-intro.ipynb",
      "version": "0.3.2",
      "provenance": []
    }
  },
  "cells": [
    {
      "cell_type": "code",
      "metadata": {
        "id": "JqTr2EniyDlT",
        "colab_type": "code",
        "colab": {}
      },
      "source": [
        "# windows only hack for graphviz path \n",
        "import os\n",
        "for path in os.environ['PATH'].split(os.pathsep):\n",
        "    if path.endswith(\"Library\\\\bin\"):\n",
        "        os.environ['PATH']+=os.pathsep+os.path.join(path, 'graphviz')"
      ],
      "execution_count": 0,
      "outputs": []
    },
    {
      "cell_type": "code",
      "metadata": {
        "id": "fwixO1QKyDlb",
        "colab_type": "code",
        "colab": {},
        "outputId": "2ad761a2-ab03-41ab-a6e5-18c796a51b05"
      },
      "source": [
        "import keras\n",
        "from keras.models import Sequential\n",
        "from PIL import Image\n",
        "import numpy as np"
      ],
      "execution_count": 0,
      "outputs": [
        {
          "output_type": "stream",
          "text": [
            "Using TensorFlow backend.\n"
          ],
          "name": "stderr"
        }
      ]
    },
    {
      "cell_type": "code",
      "metadata": {
        "id": "1cVK1EzUyDli",
        "colab_type": "code",
        "colab": {}
      },
      "source": [
        "import lzma\n",
        "import pickle\n",
        "with lzma.open(\"mnist.pkl.xz\", 'rb') as f:\n",
        "    train_set, validation_set, test_set = pickle.load(f, encoding='latin1')\n",
        "train_X, train_y = train_set\n",
        "validation_X, validation_y = validation_set\n",
        "test_X, test_y = test_set\n",
        "\n",
        "\n",
        "train_Y = np.eye(10)[train_y]\n",
        "test_Y = np.eye(10)[test_y]\n",
        "validation_Y = np.eye(10)[validation_y]\n",
        "\n",
        "# or\n",
        "# from keras.datasets import mnist\n",
        "# from keras.utils import np_utils\n",
        "# (train_X, train_y), (test_X, test_y) = mnist.load_data()\n",
        "# train_Y = np_utils.to_categorical(train_y, 10)\n",
        "# test_Y = np_utils.to_categorical(test_y, 10)"
      ],
      "execution_count": 0,
      "outputs": []
    },
    {
      "cell_type": "markdown",
      "metadata": {
        "id": "YAmfG2kKyDlo",
        "colab_type": "text"
      },
      "source": [
        "### logistic regression"
      ]
    },
    {
      "cell_type": "code",
      "metadata": {
        "id": "RgqfH4FGyDlq",
        "colab_type": "code",
        "colab": {}
      },
      "source": [
        "from keras.layers import Dense, Activation\n",
        "model = Sequential()\n",
        "model.add(Dense(units=10, input_dim=784))\n",
        "model.add(Activation('softmax'))"
      ],
      "execution_count": 0,
      "outputs": []
    },
    {
      "cell_type": "code",
      "metadata": {
        "id": "zhpccySVyDlu",
        "colab_type": "code",
        "colab": {}
      },
      "source": [
        "model.compile(loss='categorical_crossentropy',\n",
        "              optimizer='sgd',\n",
        "              metrics=['accuracy'])"
      ],
      "execution_count": 0,
      "outputs": []
    },
    {
      "cell_type": "code",
      "metadata": {
        "id": "nD3poRD4yDlz",
        "colab_type": "code",
        "colab": {},
        "outputId": "4ad2f71b-b7e8-44ab-c8b3-814c152b82a9"
      },
      "source": [
        "from IPython.display import SVG, display\n",
        "from keras.utils.vis_utils import model_to_dot\n",
        "\n",
        "SVG(model_to_dot(model, show_shapes=True).create(prog='dot', format='svg'))"
      ],
      "execution_count": 0,
      "outputs": [
        {
          "output_type": "execute_result",
          "data": {
            "image/svg+xml": "<svg height=\"221pt\" viewBox=\"0.00 0.00 313.00 221.00\" width=\"313pt\" xmlns=\"http://www.w3.org/2000/svg\" xmlns:xlink=\"http://www.w3.org/1999/xlink\">\n<g class=\"graph\" id=\"graph0\" transform=\"scale(1 1) rotate(0) translate(4 217)\">\n<title>G</title>\n<polygon fill=\"white\" points=\"-4,4 -4,-217 309,-217 309,4 -4,4\" stroke=\"none\"/>\n<!-- 1902677000824 -->\n<g class=\"node\" id=\"node1\"><title>1902677000824</title>\n<polygon fill=\"none\" points=\"0,-166.5 0,-212.5 305,-212.5 305,-166.5 0,-166.5\" stroke=\"black\"/>\n<text font-family=\"Times New Roman,serif\" font-size=\"14.00\" text-anchor=\"middle\" x=\"83\" y=\"-185.8\">dense_1_input: InputLayer</text>\n<polyline fill=\"none\" points=\"166,-166.5 166,-212.5 \" stroke=\"black\"/>\n<text font-family=\"Times New Roman,serif\" font-size=\"14.00\" text-anchor=\"middle\" x=\"194\" y=\"-197.3\">input:</text>\n<polyline fill=\"none\" points=\"166,-189.5 222,-189.5 \" stroke=\"black\"/>\n<text font-family=\"Times New Roman,serif\" font-size=\"14.00\" text-anchor=\"middle\" x=\"194\" y=\"-174.3\">output:</text>\n<polyline fill=\"none\" points=\"222,-166.5 222,-212.5 \" stroke=\"black\"/>\n<text font-family=\"Times New Roman,serif\" font-size=\"14.00\" text-anchor=\"middle\" x=\"263.5\" y=\"-197.3\">(None, 784)</text>\n<polyline fill=\"none\" points=\"222,-189.5 305,-189.5 \" stroke=\"black\"/>\n<text font-family=\"Times New Roman,serif\" font-size=\"14.00\" text-anchor=\"middle\" x=\"263.5\" y=\"-174.3\">(None, 784)</text>\n</g>\n<!-- 1902676938424 -->\n<g class=\"node\" id=\"node2\"><title>1902676938424</title>\n<polygon fill=\"none\" points=\"31,-83.5 31,-129.5 274,-129.5 274,-83.5 31,-83.5\" stroke=\"black\"/>\n<text font-family=\"Times New Roman,serif\" font-size=\"14.00\" text-anchor=\"middle\" x=\"83\" y=\"-102.8\">dense_1: Dense</text>\n<polyline fill=\"none\" points=\"135,-83.5 135,-129.5 \" stroke=\"black\"/>\n<text font-family=\"Times New Roman,serif\" font-size=\"14.00\" text-anchor=\"middle\" x=\"163\" y=\"-114.3\">input:</text>\n<polyline fill=\"none\" points=\"135,-106.5 191,-106.5 \" stroke=\"black\"/>\n<text font-family=\"Times New Roman,serif\" font-size=\"14.00\" text-anchor=\"middle\" x=\"163\" y=\"-91.3\">output:</text>\n<polyline fill=\"none\" points=\"191,-83.5 191,-129.5 \" stroke=\"black\"/>\n<text font-family=\"Times New Roman,serif\" font-size=\"14.00\" text-anchor=\"middle\" x=\"232.5\" y=\"-114.3\">(None, 784)</text>\n<polyline fill=\"none\" points=\"191,-106.5 274,-106.5 \" stroke=\"black\"/>\n<text font-family=\"Times New Roman,serif\" font-size=\"14.00\" text-anchor=\"middle\" x=\"232.5\" y=\"-91.3\">(None, 10)</text>\n</g>\n<!-- 1902677000824&#45;&gt;1902676938424 -->\n<g class=\"edge\" id=\"edge1\"><title>1902677000824-&gt;1902676938424</title>\n<path d=\"M152.5,-166.366C152.5,-158.152 152.5,-148.658 152.5,-139.725\" fill=\"none\" stroke=\"black\"/>\n<polygon fill=\"black\" points=\"156,-139.607 152.5,-129.607 149,-139.607 156,-139.607\" stroke=\"black\"/>\n</g>\n<!-- 1902676938704 -->\n<g class=\"node\" id=\"node3\"><title>1902676938704</title>\n<polygon fill=\"none\" points=\"12,-0.5 12,-46.5 293,-46.5 293,-0.5 12,-0.5\" stroke=\"black\"/>\n<text font-family=\"Times New Roman,serif\" font-size=\"14.00\" text-anchor=\"middle\" x=\"86\" y=\"-19.8\">activation_1: Activation</text>\n<polyline fill=\"none\" points=\"160,-0.5 160,-46.5 \" stroke=\"black\"/>\n<text font-family=\"Times New Roman,serif\" font-size=\"14.00\" text-anchor=\"middle\" x=\"188\" y=\"-31.3\">input:</text>\n<polyline fill=\"none\" points=\"160,-23.5 216,-23.5 \" stroke=\"black\"/>\n<text font-family=\"Times New Roman,serif\" font-size=\"14.00\" text-anchor=\"middle\" x=\"188\" y=\"-8.3\">output:</text>\n<polyline fill=\"none\" points=\"216,-0.5 216,-46.5 \" stroke=\"black\"/>\n<text font-family=\"Times New Roman,serif\" font-size=\"14.00\" text-anchor=\"middle\" x=\"254.5\" y=\"-31.3\">(None, 10)</text>\n<polyline fill=\"none\" points=\"216,-23.5 293,-23.5 \" stroke=\"black\"/>\n<text font-family=\"Times New Roman,serif\" font-size=\"14.00\" text-anchor=\"middle\" x=\"254.5\" y=\"-8.3\">(None, 10)</text>\n</g>\n<!-- 1902676938424&#45;&gt;1902676938704 -->\n<g class=\"edge\" id=\"edge2\"><title>1902676938424-&gt;1902676938704</title>\n<path d=\"M152.5,-83.3664C152.5,-75.1516 152.5,-65.6579 152.5,-56.7252\" fill=\"none\" stroke=\"black\"/>\n<polygon fill=\"black\" points=\"156,-56.6068 152.5,-46.6068 149,-56.6069 156,-56.6068\" stroke=\"black\"/>\n</g>\n</g>\n</svg>",
            "text/plain": [
              "<IPython.core.display.SVG object>"
            ]
          },
          "metadata": {
            "tags": []
          },
          "execution_count": 6
        }
      ]
    },
    {
      "cell_type": "code",
      "metadata": {
        "id": "vn626EQmyDl4",
        "colab_type": "code",
        "colab": {},
        "outputId": "2432a829-7b0f-4caf-d42d-d3b6346b65bd"
      },
      "source": [
        "model.fit(train_X, train_Y, validation_data=(validation_X, validation_Y), batch_size=128, epochs=15)"
      ],
      "execution_count": 0,
      "outputs": [
        {
          "output_type": "stream",
          "text": [
            "Train on 50000 samples, validate on 10000 samples\n",
            "Epoch 1/15\n",
            "50000/50000 [==============================] - 0s - loss: 1.3414 - acc: 0.6857 - val_loss: 0.8683 - val_acc: 0.8318\n",
            "Epoch 2/15\n",
            "50000/50000 [==============================] - 0s - loss: 0.7797 - acc: 0.8291 - val_loss: 0.6367 - val_acc: 0.8615\n",
            "Epoch 3/15\n",
            "50000/50000 [==============================] - 0s - loss: 0.6348 - acc: 0.8509 - val_loss: 0.5439 - val_acc: 0.8743\n",
            "Epoch 4/15\n",
            "50000/50000 [==============================] - 0s - loss: 0.5644 - acc: 0.8614 - val_loss: 0.4922 - val_acc: 0.8825\n",
            "Epoch 5/15\n",
            "50000/50000 [==============================] - 0s - loss: 0.5214 - acc: 0.8681 - val_loss: 0.4590 - val_acc: 0.8887\n",
            "Epoch 6/15\n",
            "50000/50000 [==============================] - 0s - loss: 0.4919 - acc: 0.8736 - val_loss: 0.4358 - val_acc: 0.8909\n",
            "Epoch 7/15\n",
            "50000/50000 [==============================] - 0s - loss: 0.4700 - acc: 0.8773 - val_loss: 0.4182 - val_acc: 0.8938\n",
            "Epoch 8/15\n",
            "50000/50000 [==============================] - 0s - loss: 0.4530 - acc: 0.8801 - val_loss: 0.4044 - val_acc: 0.8959\n",
            "Epoch 9/15\n",
            "50000/50000 [==============================] - 0s - loss: 0.4393 - acc: 0.8828 - val_loss: 0.3932 - val_acc: 0.8982\n",
            "Epoch 10/15\n",
            "50000/50000 [==============================] - 0s - loss: 0.4280 - acc: 0.8853 - val_loss: 0.3840 - val_acc: 0.8997\n",
            "Epoch 11/15\n",
            "50000/50000 [==============================] - 0s - loss: 0.4183 - acc: 0.8867 - val_loss: 0.3762 - val_acc: 0.9005\n",
            "Epoch 12/15\n",
            "50000/50000 [==============================] - 0s - loss: 0.4101 - acc: 0.8890 - val_loss: 0.3693 - val_acc: 0.9017\n",
            "Epoch 13/15\n",
            "50000/50000 [==============================] - 0s - loss: 0.4029 - acc: 0.8902 - val_loss: 0.3637 - val_acc: 0.9029\n",
            "Epoch 14/15\n",
            "50000/50000 [==============================] - 0s - loss: 0.3965 - acc: 0.8918 - val_loss: 0.3585 - val_acc: 0.9036\n",
            "Epoch 15/15\n",
            "50000/50000 [==============================] - 0s - loss: 0.3908 - acc: 0.8931 - val_loss: 0.3540 - val_acc: 0.9038\n"
          ],
          "name": "stdout"
        },
        {
          "output_type": "execute_result",
          "data": {
            "text/plain": [
              "<keras.callbacks.History at 0x1bb0dc82860>"
            ]
          },
          "metadata": {
            "tags": []
          },
          "execution_count": 7
        }
      ]
    },
    {
      "cell_type": "code",
      "metadata": {
        "id": "CPpkuL-MyDl9",
        "colab_type": "code",
        "colab": {},
        "outputId": "d725a9a4-5d15-4e7f-a19a-86a383bd172a"
      },
      "source": [
        "# 預測看看 test_X 前 20 筆\n",
        "model.predict_classes(test_X[:20])"
      ],
      "execution_count": 0,
      "outputs": [
        {
          "output_type": "stream",
          "text": [
            "20/20 [==============================] - 0s\n"
          ],
          "name": "stdout"
        },
        {
          "output_type": "execute_result",
          "data": {
            "text/plain": [
              "array([7, 2, 1, 0, 4, 1, 4, 9, 6, 9, 0, 6, 9, 0, 1, 5, 9, 7, 3, 4], dtype=int64)"
            ]
          },
          "metadata": {
            "tags": []
          },
          "execution_count": 8
        }
      ]
    },
    {
      "cell_type": "code",
      "metadata": {
        "id": "37826yStyDmA",
        "colab_type": "code",
        "colab": {},
        "outputId": "f193b695-97c2-4896-94c5-49b772f3d7fc"
      },
      "source": [
        "# 對答案\n",
        "test_y[:20]"
      ],
      "execution_count": 0,
      "outputs": [
        {
          "output_type": "execute_result",
          "data": {
            "text/plain": [
              "array([7, 2, 1, 0, 4, 1, 4, 9, 5, 9, 0, 6, 9, 0, 1, 5, 9, 7, 3, 4], dtype=int64)"
            ]
          },
          "metadata": {
            "tags": []
          },
          "execution_count": 9
        }
      ]
    },
    {
      "cell_type": "code",
      "metadata": {
        "id": "2yIS2tAbyDmE",
        "colab_type": "code",
        "colab": {},
        "outputId": "659b0f92-1d4f-4930-aeda-e861d12c952e"
      },
      "source": [
        "# 看看 test accuracy\n",
        "model.evaluate(test_X, test_Y)"
      ],
      "execution_count": 0,
      "outputs": [
        {
          "output_type": "stream",
          "text": [
            " 8032/10000 [=======================>......] - ETA: 0s"
          ],
          "name": "stdout"
        },
        {
          "output_type": "execute_result",
          "data": {
            "text/plain": [
              "[0.36359533268213273, 0.90269999999999995]"
            ]
          },
          "metadata": {
            "tags": []
          },
          "execution_count": 10
        }
      ]
    },
    {
      "cell_type": "markdown",
      "metadata": {
        "id": "p9IG_ZfzyDmJ",
        "colab_type": "text"
      },
      "source": [
        "## Q \n",
        "* 將 `optimizer` 換成 `\"adam\"`\n",
        "* 將 `optimizer` 換成 `keras.optimizers.SGD(lr=0.01, momentum=0.9, nesterov=True)`"
      ]
    },
    {
      "cell_type": "markdown",
      "metadata": {
        "id": "SqgefFRpyDmK",
        "colab_type": "text"
      },
      "source": [
        "### 建立  convolutional model\n",
        "我們之前的網路架構\n",
        "* convolution 2d kernel=(3,3), filters=32\n",
        "* relu\n",
        "* max pool\n",
        "* convolution 2d kernel=(3,3), filters=64\n",
        "* relu\n",
        "* max pool\n",
        "* dense units=1024\n",
        "* relu\n",
        "* dropout (rate=0.8) # 先省略這一層\n",
        "* dense units = 10\n",
        "* softmax\n",
        "\n",
        "試著架出這樣的網路\n",
        "\n",
        "然後訓練看看\n",
        "\n",
        "開頭幾行可以這樣寫\n",
        "```python\n",
        "from keras.layers import Dense, Activation, Conv2D, MaxPool2D, Reshape\n",
        "model = Sequential()\n",
        "model.add(Reshape((28, 28, 1), input_shape=(784,) ))\n",
        "model.add(Conv2D(filters=32, kernel_size=(3,3), padding='same', activation=\"relu\"))\n",
        "```"
      ]
    },
    {
      "cell_type": "code",
      "metadata": {
        "id": "wsRrdIP1yDmM",
        "colab_type": "code",
        "colab": {}
      },
      "source": [
        "# 參考答案\n",
        "#%load q_keras_cnn.py"
      ],
      "execution_count": 0,
      "outputs": []
    }
  ]
}