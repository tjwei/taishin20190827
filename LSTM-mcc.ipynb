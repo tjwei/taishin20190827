{
  "nbformat": 4,
  "nbformat_minor": 0,
  "metadata": {
    "kernelspec": {
      "name": "python3",
      "display_name": "Python 3"
    },
    "language_info": {
      "codemirror_mode": {
        "name": "ipython",
        "version": 3
      },
      "file_extension": ".py",
      "mimetype": "text/x-python",
      "name": "python",
      "nbconvert_exporter": "python",
      "pygments_lexer": "ipython3",
      "version": "3.5.3"
    },
    "colab": {
      "name": "04-LSTM-imdb.ipynb",
      "version": "0.3.2",
      "provenance": []
    },
    "accelerator": "GPU"
  },
  "cells": [
    {
      "cell_type": "markdown",
      "metadata": {
        "id": "tecE8g82xhGm",
        "colab_type": "text"
      },
      "source": [
        "* https://github.com/fchollet/keras/blob/master/examples/imdb_lstm.py"
      ]
    },
    {
      "cell_type": "code",
      "metadata": {
        "id": "cK8bGPjnxhGu",
        "colab_type": "code",
        "colab": {}
      },
      "source": [
        "import numpy as np\n",
        "from keras.preprocessing import sequence\n",
        "from keras.models import Sequential\n",
        "from keras.layers import Dense, Embedding\n",
        "from keras.layers import CuDNNLSTM, LSTM\n",
        "from keras.datasets import imdb"
      ],
      "execution_count": 0,
      "outputs": []
    },
    {
      "cell_type": "code",
      "metadata": {
        "id": "v5I2EkD34jUG",
        "colab_type": "code",
        "colab": {}
      },
      "source": [
        "r = np.load('seq_df.npy', allow_pickle=True)"
      ],
      "execution_count": 0,
      "outputs": []
    },
    {
      "cell_type": "code",
      "metadata": {
        "id": "AvwDS3AP4rq4",
        "colab_type": "code",
        "colab": {}
      },
      "source": [
        "output = [x[:, 0] for x in r]\n",
        "output_set = set()\n",
        "for x in output:\n",
        "  output_set |= set(x)"
      ],
      "execution_count": 0,
      "outputs": []
    },
    {
      "cell_type": "code",
      "metadata": {
        "id": "_0ueL0HS6YXR",
        "colab_type": "code",
        "colab": {}
      },
      "source": [
        "mcc_dict = dict((x,i) for i,x in enumerate(output_set))"
      ],
      "execution_count": 0,
      "outputs": []
    },
    {
      "cell_type": "code",
      "metadata": {
        "id": "EN94D5Jz7Azw",
        "colab_type": "code",
        "colab": {}
      },
      "source": [
        "output = [[mcc_dict[y] for y in x] for x in output]"
      ],
      "execution_count": 0,
      "outputs": []
    },
    {
      "cell_type": "code",
      "metadata": {
        "id": "IK1e2_yPCJHA",
        "colab_type": "code",
        "colab": {}
      },
      "source": [
        "output2 = [x[:, 1] for x in r]"
      ],
      "execution_count": 0,
      "outputs": []
    },
    {
      "cell_type": "code",
      "metadata": {
        "id": "DqdLqebB7KL4",
        "colab_type": "code",
        "colab": {
          "base_uri": "https://localhost:8080/",
          "height": 35
        },
        "outputId": "57cc8ef5-0713-4e72-e17f-45ce03fde648"
      },
      "source": [
        "np.std([len(x) for x in output])"
      ],
      "execution_count": 53,
      "outputs": [
        {
          "output_type": "execute_result",
          "data": {
            "text/plain": [
              "8.130029595411932"
            ]
          },
          "metadata": {
            "tags": []
          },
          "execution_count": 53
        }
      ]
    },
    {
      "cell_type": "code",
      "metadata": {
        "id": "wVXJVdHY9fQQ",
        "colab_type": "code",
        "colab": {}
      },
      "source": [
        "x_train = output[:10000]\n",
        "x_test = output[10000:]"
      ],
      "execution_count": 0,
      "outputs": []
    },
    {
      "cell_type": "code",
      "metadata": {
        "id": "JUQnUhOr9sYh",
        "colab_type": "code",
        "colab": {}
      },
      "source": [
        "y = np.load('seq_y.npy', allow_pickle=True)"
      ],
      "execution_count": 0,
      "outputs": []
    },
    {
      "cell_type": "code",
      "metadata": {
        "id": "KnOI-JKb9vep",
        "colab_type": "code",
        "colab": {}
      },
      "source": [
        "y= y=='F'"
      ],
      "execution_count": 0,
      "outputs": []
    },
    {
      "cell_type": "code",
      "metadata": {
        "id": "OeQ6F86H90Lj",
        "colab_type": "code",
        "colab": {}
      },
      "source": [
        "y_train = y[:10000]\n",
        "y_test = y[10000:]"
      ],
      "execution_count": 0,
      "outputs": []
    },
    {
      "cell_type": "code",
      "metadata": {
        "id": "ZPZVwYj6CTeS",
        "colab_type": "code",
        "colab": {}
      },
      "source": [
        "x_train2=output2[:10000]\n",
        "x_test2 = output2[10000:]"
      ],
      "execution_count": 0,
      "outputs": []
    },
    {
      "cell_type": "code",
      "metadata": {
        "id": "tPSBkgBkxhHE",
        "colab_type": "code",
        "colab": {}
      },
      "source": [
        "maxlen = 15\n",
        "x_train = sequence.pad_sequences(x_train, maxlen=maxlen)\n",
        "x_test = sequence.pad_sequences(x_test, maxlen=maxlen)"
      ],
      "execution_count": 0,
      "outputs": []
    },
    {
      "cell_type": "code",
      "metadata": {
        "id": "dSIwwL57CQm2",
        "colab_type": "code",
        "colab": {}
      },
      "source": [
        "x_train2 = sequence.pad_sequences(x_train2, maxlen=maxlen)\n",
        "x_test2 = sequence.pad_sequences(x_test2, maxlen=maxlen)"
      ],
      "execution_count": 0,
      "outputs": []
    },
    {
      "cell_type": "code",
      "metadata": {
        "id": "C9nqoeMxxhHO",
        "colab_type": "code",
        "colab": {
          "base_uri": "https://localhost:8080/",
          "height": 292
        },
        "outputId": "cef206f0-7668-42bc-a6a4-9e7ffed3bf3f"
      },
      "source": [
        "model = Sequential()\n",
        "model.add(Embedding(len(mcc_dict), 32))\n",
        "model.add(CuDNNLSTM(64)) #, dropout=0.2, recurrent_dropout=0.2))\n",
        "model.add(Dense(1, activation='sigmoid'))\n",
        "model.compile(loss='binary_crossentropy',\n",
        "              optimizer='adam',\n",
        "              metrics=['accuracy'])"
      ],
      "execution_count": 67,
      "outputs": [
        {
          "output_type": "stream",
          "text": [
            "WARNING: Logging before flag parsing goes to stderr.\n",
            "W0902 07:57:07.438769 140541347919744 deprecation_wrapper.py:119] From /usr/local/lib/python3.6/dist-packages/keras/backend/tensorflow_backend.py:66: The name tf.get_default_graph is deprecated. Please use tf.compat.v1.get_default_graph instead.\n",
            "\n",
            "W0902 07:57:07.463414 140541347919744 deprecation_wrapper.py:119] From /usr/local/lib/python3.6/dist-packages/keras/backend/tensorflow_backend.py:541: The name tf.placeholder is deprecated. Please use tf.compat.v1.placeholder instead.\n",
            "\n",
            "W0902 07:57:07.466971 140541347919744 deprecation_wrapper.py:119] From /usr/local/lib/python3.6/dist-packages/keras/backend/tensorflow_backend.py:4432: The name tf.random_uniform is deprecated. Please use tf.random.uniform instead.\n",
            "\n",
            "W0902 07:57:09.721474 140541347919744 deprecation_wrapper.py:119] From /usr/local/lib/python3.6/dist-packages/keras/optimizers.py:793: The name tf.train.Optimizer is deprecated. Please use tf.compat.v1.train.Optimizer instead.\n",
            "\n",
            "W0902 07:57:09.746324 140541347919744 deprecation_wrapper.py:119] From /usr/local/lib/python3.6/dist-packages/keras/backend/tensorflow_backend.py:3657: The name tf.log is deprecated. Please use tf.math.log instead.\n",
            "\n",
            "W0902 07:57:09.752681 140541347919744 deprecation.py:323] From /usr/local/lib/python3.6/dist-packages/tensorflow/python/ops/nn_impl.py:180: add_dispatch_support.<locals>.wrapper (from tensorflow.python.ops.array_ops) is deprecated and will be removed in a future version.\n",
            "Instructions for updating:\n",
            "Use tf.where in 2.0, which has the same broadcast rule as np.where\n"
          ],
          "name": "stderr"
        }
      ]
    },
    {
      "cell_type": "code",
      "metadata": {
        "id": "gBUqd7Kd_drP",
        "colab_type": "code",
        "colab": {
          "base_uri": "https://localhost:8080/",
          "height": 74
        },
        "outputId": "c8b2057a-9da3-4e72-853e-11bc48a3068c"
      },
      "source": [
        "from keras.models import Model\n",
        "from keras.layers import Input, Reshape, concatenate\n",
        "input1 = Input(shape=(None,))\n",
        "input2 = Input(shape=(None,))\n",
        "embd = Embedding(len(mcc_dict), 32)(input1)\n",
        "reshape = Reshape((-1, 1) )(input2)\n",
        "concat = concatenate([embd, reshape])\n",
        "lstm_output = CuDNNLSTM(64)(concat)\n",
        "model_output = Dense(1, activation='sigmoid')(lstm_output)\n",
        "model2 = Model(inputs=[input1, input2], output=model_output)"
      ],
      "execution_count": 94,
      "outputs": [
        {
          "output_type": "stream",
          "text": [
            "/usr/local/lib/python3.6/dist-packages/ipykernel_launcher.py:10: UserWarning: Update your `Model` call to the Keras 2 API: `Model(inputs=[<tf.Tenso..., outputs=Tensor(\"de...)`\n",
            "  # Remove the CWD from sys.path while we load stuff.\n"
          ],
          "name": "stderr"
        }
      ]
    },
    {
      "cell_type": "code",
      "metadata": {
        "id": "stKAVo7tC7rK",
        "colab_type": "code",
        "colab": {}
      },
      "source": [
        "model2.compile(loss='binary_crossentropy',\n",
        "              optimizer='adam',\n",
        "              metrics=['accuracy'])"
      ],
      "execution_count": 0,
      "outputs": []
    },
    {
      "cell_type": "code",
      "metadata": {
        "id": "_Lk8halnxhHh",
        "colab_type": "code",
        "outputId": "28beb940-8867-45f6-86d7-ae0659ebc5b4",
        "colab": {
          "base_uri": "https://localhost:8080/",
          "height": 417
        }
      },
      "source": [
        "model2.fit([x_train, x_train2], y_train,\n",
        "          batch_size=32,\n",
        "          epochs=10,\n",
        "          validation_data=([x_test, x_test], y_test))"
      ],
      "execution_count": 107,
      "outputs": [
        {
          "output_type": "stream",
          "text": [
            "Train on 10000 samples, validate on 4349 samples\n",
            "Epoch 1/10\n",
            "10000/10000 [==============================] - 3s 293us/step - loss: 0.5829 - acc: 0.7106 - val_loss: 0.6803 - val_acc: 0.6045\n",
            "Epoch 2/10\n",
            "10000/10000 [==============================] - 3s 282us/step - loss: 0.5780 - acc: 0.7096 - val_loss: 0.6606 - val_acc: 0.6190\n",
            "Epoch 3/10\n",
            "10000/10000 [==============================] - 3s 287us/step - loss: 0.5740 - acc: 0.7130 - val_loss: 0.6744 - val_acc: 0.6314\n",
            "Epoch 4/10\n",
            "10000/10000 [==============================] - 3s 273us/step - loss: 0.5753 - acc: 0.7135 - val_loss: 0.6673 - val_acc: 0.6224\n",
            "Epoch 5/10\n",
            "10000/10000 [==============================] - 3s 280us/step - loss: 0.5719 - acc: 0.7171 - val_loss: 0.6692 - val_acc: 0.6178\n",
            "Epoch 6/10\n",
            "10000/10000 [==============================] - 3s 284us/step - loss: 0.5655 - acc: 0.7168 - val_loss: 0.6705 - val_acc: 0.6312\n",
            "Epoch 7/10\n",
            "10000/10000 [==============================] - 3s 278us/step - loss: 0.5620 - acc: 0.7251 - val_loss: 0.6946 - val_acc: 0.6162\n",
            "Epoch 8/10\n",
            "10000/10000 [==============================] - 3s 286us/step - loss: 0.5608 - acc: 0.7215 - val_loss: 0.6753 - val_acc: 0.6305\n",
            "Epoch 9/10\n",
            "10000/10000 [==============================] - 3s 280us/step - loss: 0.5619 - acc: 0.7219 - val_loss: 0.7218 - val_acc: 0.6146\n",
            "Epoch 10/10\n",
            "10000/10000 [==============================] - 3s 295us/step - loss: 0.5604 - acc: 0.7226 - val_loss: 0.6770 - val_acc: 0.6303\n"
          ],
          "name": "stdout"
        },
        {
          "output_type": "execute_result",
          "data": {
            "text/plain": [
              "<keras.callbacks.History at 0x7fd19a79cef0>"
            ]
          },
          "metadata": {
            "tags": []
          },
          "execution_count": 107
        }
      ]
    },
    {
      "cell_type": "code",
      "metadata": {
        "id": "WldAOPrJxhHp",
        "colab_type": "code",
        "outputId": "5f4a7eb7-65ab-48d1-c227-456a1442aad5",
        "colab": {}
      },
      "source": [
        "score, acc = model.evaluate(x_test, y_test, batch_size=32)\n",
        "print('Test score:', score)\n",
        "print('Test accuracy:', acc)"
      ],
      "execution_count": 0,
      "outputs": [
        {
          "output_type": "stream",
          "text": [
            "25000/25000 [==============================] - 12s    \n",
            "Test score: 0.690729214754\n",
            "Test accuracy: 0.82004\n"
          ],
          "name": "stdout"
        }
      ]
    }
  ]
}