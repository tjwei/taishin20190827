{
  "nbformat": 4,
  "nbformat_minor": 0,
  "metadata": {
    "colab": {
      "name": "classifier_on_data.ipynb",
      "version": "0.3.2",
      "provenance": [],
      "collapsed_sections": [],
      "include_colab_link": true
    },
    "kernelspec": {
      "name": "python3",
      "display_name": "Python 3"
    }
  },
  "cells": [
    {
      "cell_type": "markdown",
      "metadata": {
        "id": "view-in-github",
        "colab_type": "text"
      },
      "source": [
        "<a href=\"https://colab.research.google.com/github/tjwei/taishin20190827/blob/master/Basic_ML/classifier_on_data.ipynb\" target=\"_parent\"><img src=\"https://colab.research.google.com/assets/colab-badge.svg\" alt=\"Open In Colab\"/></a>"
      ]
    },
    {
      "cell_type": "markdown",
      "metadata": {
        "id": "-m5PXfx01Wmw",
        "colab_type": "text"
      },
      "source": [
        "# 用 KNN 的方式做推薦"
      ]
    },
    {
      "cell_type": "markdown",
      "metadata": {
        "id": "4Zc-ZsYr053a",
        "colab_type": "text"
      },
      "source": [
        "台新分析開發環境案客戶資料\n",
        "https://drive.google.com/drive/u/2/folders/1AAXWPcB9xiDe_qX87ce5XL-utkASWxRe\n",
        "\n",
        "請先連到這個分享資料夾，並且按下右鍵，加入你的 Google 雲端硬碟\n"
      ]
    },
    {
      "cell_type": "code",
      "metadata": {
        "id": "DLxDQLLTw2Sc",
        "colab_type": "code",
        "outputId": "6d884c43-7b3e-4c87-8ff9-31aed4c4eb1f",
        "colab": {
          "base_uri": "https://localhost:8080/",
          "height": 35
        }
      },
      "source": [
        "# 這個是授權存取你的 Google 雲端硬碟\n",
        "from google.colab import drive\n",
        "drive.mount('/content/drive')"
      ],
      "execution_count": 1,
      "outputs": [
        {
          "output_type": "stream",
          "text": [
            "Drive already mounted at /content/drive; to attempt to forcibly remount, call drive.mount(\"/content/drive\", force_remount=True).\n"
          ],
          "name": "stdout"
        }
      ]
    },
    {
      "cell_type": "code",
      "metadata": {
        "id": "y55N58WSzWHr",
        "colab_type": "code",
        "outputId": "4fbfc4ec-84ed-47d4-8869-3dc04d4d94af",
        "colab": {
          "base_uri": "https://localhost:8080/",
          "height": 305
        }
      },
      "source": [
        "# 確認真的連上了資料\n",
        "!ls drive/My\\ Drive/台新分析開發環境案客戶資料"
      ],
      "execution_count": 2,
      "outputs": [
        {
          "output_type": "stream",
          "text": [
            "'Copy of 0606_口述台新資料欄位.m4a'\n",
            "'Copy of 0610_嘉駿寄來的欄位內容.png'\n",
            "'Copy of 0621_data_original.zip'\n",
            "'Copy of profile.csv'\n",
            "'Copy of profile.gsheet'\n",
            "'Copy of result_y1.csv'\n",
            "'Copy of result_y1.gsheet'\n",
            "'Copy of result_y2.csv'\n",
            "'Copy of sr_1.csv'\n",
            "'Copy of sr_2.csv'\n",
            "'Copy of sr_3.csv'\n",
            "'Copy of sr_4.csv'\n",
            "'Copy of status.csv'\n",
            "'Copy of visa-merchant-data-standards-manual_用來對照sr_1.csv中的mcc欄位.pdf'\n",
            "'Copy of zip 對照表.xlsx'\n",
            "'Copy of 檔案欄位說明_MOOCS.XLSX'\n"
          ],
          "name": "stdout"
        }
      ]
    },
    {
      "cell_type": "code",
      "metadata": {
        "id": "2Hrx_j1vwDXn",
        "colab_type": "code",
        "colab": {}
      },
      "source": [
        "# 正式開始\n",
        "import pandas as pd\n",
        "import os.path\n",
        "import numpy as np"
      ],
      "execution_count": 0,
      "outputs": []
    },
    {
      "cell_type": "code",
      "metadata": {
        "id": "hxwJyFIO1vOe",
        "colab_type": "code",
        "colab": {}
      },
      "source": [
        "DATA_DIR='drive/My Drive/台新分析開發環境案客戶資料'\n",
        "status_fn = os.path.join(DATA_DIR, 'Copy of status.csv')\n",
        "status_df = pd.read_csv(status_fn)\n",
        "profile_fn = os.path.join(DATA_DIR, 'Copy of profile.csv')\n",
        "profile_df = pd.read_csv(profile_fn)"
      ],
      "execution_count": 0,
      "outputs": []
    },
    {
      "cell_type": "code",
      "metadata": {
        "id": "BZl63rGk2B2U",
        "colab_type": "code",
        "outputId": "6324a9c2-ade6-46ae-bf58-5a2d9d38475e",
        "colab": {
          "base_uri": "https://localhost:8080/",
          "height": 202
        }
      },
      "source": [
        "status_df.head()"
      ],
      "execution_count": 5,
      "outputs": [
        {
          "output_type": "execute_result",
          "data": {
            "text/html": [
              "<div>\n",
              "<style scoped>\n",
              "    .dataframe tbody tr th:only-of-type {\n",
              "        vertical-align: middle;\n",
              "    }\n",
              "\n",
              "    .dataframe tbody tr th {\n",
              "        vertical-align: top;\n",
              "    }\n",
              "\n",
              "    .dataframe thead th {\n",
              "        text-align: right;\n",
              "    }\n",
              "</style>\n",
              "<table border=\"1\" class=\"dataframe\">\n",
              "  <thead>\n",
              "    <tr style=\"text-align: right;\">\n",
              "      <th></th>\n",
              "      <th>YYYYMM</th>\n",
              "      <th>CUST_NO</th>\n",
              "      <th>py_a</th>\n",
              "      <th>py_b</th>\n",
              "      <th>py_c</th>\n",
              "      <th>py_d</th>\n",
              "      <th>py_e</th>\n",
              "      <th>py_f</th>\n",
              "      <th>py_g</th>\n",
              "      <th>py_h</th>\n",
              "      <th>py_i</th>\n",
              "      <th>py_j</th>\n",
              "      <th>py_k</th>\n",
              "      <th>py_l</th>\n",
              "      <th>as_a</th>\n",
              "      <th>as_b</th>\n",
              "      <th>as_c</th>\n",
              "      <th>as_d</th>\n",
              "      <th>as_e</th>\n",
              "      <th>as_f</th>\n",
              "      <th>as_g</th>\n",
              "      <th>as_h</th>\n",
              "      <th>as_i</th>\n",
              "      <th>as_j</th>\n",
              "      <th>as_k</th>\n",
              "      <th>as_l</th>\n",
              "      <th>as_m</th>\n",
              "      <th>as_n</th>\n",
              "      <th>scr</th>\n",
              "    </tr>\n",
              "  </thead>\n",
              "  <tbody>\n",
              "    <tr>\n",
              "      <th>0</th>\n",
              "      <td>201807</td>\n",
              "      <td>9519340</td>\n",
              "      <td>24858</td>\n",
              "      <td>3014</td>\n",
              "      <td>4311</td>\n",
              "      <td>0</td>\n",
              "      <td>26422</td>\n",
              "      <td>21844</td>\n",
              "      <td>109323.0</td>\n",
              "      <td>105073.0</td>\n",
              "      <td>0.0</td>\n",
              "      <td>92955.0</td>\n",
              "      <td>4135.0</td>\n",
              "      <td>0.0</td>\n",
              "      <td>30</td>\n",
              "      <td>30</td>\n",
              "      <td>0</td>\n",
              "      <td>0</td>\n",
              "      <td>0</td>\n",
              "      <td>0</td>\n",
              "      <td>0</td>\n",
              "      <td>0</td>\n",
              "      <td>0</td>\n",
              "      <td>0</td>\n",
              "      <td>0</td>\n",
              "      <td>0</td>\n",
              "      <td>NaN</td>\n",
              "      <td>31416</td>\n",
              "      <td>419.0</td>\n",
              "    </tr>\n",
              "    <tr>\n",
              "      <th>1</th>\n",
              "      <td>201808</td>\n",
              "      <td>9519340</td>\n",
              "      <td>26422</td>\n",
              "      <td>3676</td>\n",
              "      <td>1473</td>\n",
              "      <td>0</td>\n",
              "      <td>24544</td>\n",
              "      <td>22747</td>\n",
              "      <td>108583.0</td>\n",
              "      <td>109323.0</td>\n",
              "      <td>0.0</td>\n",
              "      <td>97804.0</td>\n",
              "      <td>2130.0</td>\n",
              "      <td>0.0</td>\n",
              "      <td>30</td>\n",
              "      <td>30</td>\n",
              "      <td>0</td>\n",
              "      <td>0</td>\n",
              "      <td>0</td>\n",
              "      <td>0</td>\n",
              "      <td>0</td>\n",
              "      <td>0</td>\n",
              "      <td>0</td>\n",
              "      <td>0</td>\n",
              "      <td>0</td>\n",
              "      <td>0</td>\n",
              "      <td>NaN</td>\n",
              "      <td>31416</td>\n",
              "      <td>419.0</td>\n",
              "    </tr>\n",
              "    <tr>\n",
              "      <th>2</th>\n",
              "      <td>201809</td>\n",
              "      <td>9519340</td>\n",
              "      <td>24544</td>\n",
              "      <td>3693</td>\n",
              "      <td>4520</td>\n",
              "      <td>0</td>\n",
              "      <td>25620</td>\n",
              "      <td>20851</td>\n",
              "      <td>114245.0</td>\n",
              "      <td>108583.0</td>\n",
              "      <td>0.0</td>\n",
              "      <td>93801.0</td>\n",
              "      <td>814.0</td>\n",
              "      <td>0.0</td>\n",
              "      <td>30</td>\n",
              "      <td>30</td>\n",
              "      <td>0</td>\n",
              "      <td>0</td>\n",
              "      <td>0</td>\n",
              "      <td>0</td>\n",
              "      <td>0</td>\n",
              "      <td>0</td>\n",
              "      <td>0</td>\n",
              "      <td>0</td>\n",
              "      <td>0</td>\n",
              "      <td>0</td>\n",
              "      <td>NaN</td>\n",
              "      <td>31416</td>\n",
              "      <td>419.0</td>\n",
              "    </tr>\n",
              "    <tr>\n",
              "      <th>3</th>\n",
              "      <td>201810</td>\n",
              "      <td>9519340</td>\n",
              "      <td>25620</td>\n",
              "      <td>3515</td>\n",
              "      <td>8407</td>\n",
              "      <td>0</td>\n",
              "      <td>30798</td>\n",
              "      <td>22106</td>\n",
              "      <td>118071.0</td>\n",
              "      <td>114245.0</td>\n",
              "      <td>0.0</td>\n",
              "      <td>102422.0</td>\n",
              "      <td>1441.0</td>\n",
              "      <td>0.0</td>\n",
              "      <td>30</td>\n",
              "      <td>30</td>\n",
              "      <td>0</td>\n",
              "      <td>0</td>\n",
              "      <td>0</td>\n",
              "      <td>0</td>\n",
              "      <td>0</td>\n",
              "      <td>0</td>\n",
              "      <td>0</td>\n",
              "      <td>0</td>\n",
              "      <td>0</td>\n",
              "      <td>0</td>\n",
              "      <td>NaN</td>\n",
              "      <td>31416</td>\n",
              "      <td>419.0</td>\n",
              "    </tr>\n",
              "    <tr>\n",
              "      <th>4</th>\n",
              "      <td>201811</td>\n",
              "      <td>9519340</td>\n",
              "      <td>30798</td>\n",
              "      <td>3958</td>\n",
              "      <td>5309</td>\n",
              "      <td>0</td>\n",
              "      <td>32544</td>\n",
              "      <td>26840</td>\n",
              "      <td>122021.0</td>\n",
              "      <td>118071.0</td>\n",
              "      <td>0.0</td>\n",
              "      <td>105505.0</td>\n",
              "      <td>721.0</td>\n",
              "      <td>0.0</td>\n",
              "      <td>30</td>\n",
              "      <td>30</td>\n",
              "      <td>0</td>\n",
              "      <td>0</td>\n",
              "      <td>0</td>\n",
              "      <td>0</td>\n",
              "      <td>0</td>\n",
              "      <td>0</td>\n",
              "      <td>0</td>\n",
              "      <td>0</td>\n",
              "      <td>0</td>\n",
              "      <td>0</td>\n",
              "      <td>NaN</td>\n",
              "      <td>31416</td>\n",
              "      <td>315.0</td>\n",
              "    </tr>\n",
              "  </tbody>\n",
              "</table>\n",
              "</div>"
            ],
            "text/plain": [
              "   YYYYMM  CUST_NO   py_a  py_b  py_c  ...  as_k  as_l  as_m   as_n    scr\n",
              "0  201807  9519340  24858  3014  4311  ...     0     0   NaN  31416  419.0\n",
              "1  201808  9519340  26422  3676  1473  ...     0     0   NaN  31416  419.0\n",
              "2  201809  9519340  24544  3693  4520  ...     0     0   NaN  31416  419.0\n",
              "3  201810  9519340  25620  3515  8407  ...     0     0   NaN  31416  419.0\n",
              "4  201811  9519340  30798  3958  5309  ...     0     0   NaN  31416  315.0\n",
              "\n",
              "[5 rows x 29 columns]"
            ]
          },
          "metadata": {
            "tags": []
          },
          "execution_count": 5
        }
      ]
    },
    {
      "cell_type": "code",
      "metadata": {
        "id": "UZaerluP--kF",
        "colab_type": "code",
        "colab": {}
      },
      "source": [
        "profile_df.set_index('CUST_NO', inplace=True)"
      ],
      "execution_count": 0,
      "outputs": []
    },
    {
      "cell_type": "code",
      "metadata": {
        "id": "eL7GES5tB2bf",
        "colab_type": "code",
        "colab": {
          "base_uri": "https://localhost:8080/",
          "height": 233
        },
        "outputId": "760ad8e5-2d0e-4db9-a51c-1ff732c1a3e8"
      },
      "source": [
        "profile_df.head()"
      ],
      "execution_count": 17,
      "outputs": [
        {
          "output_type": "execute_result",
          "data": {
            "text/html": [
              "<div>\n",
              "<style scoped>\n",
              "    .dataframe tbody tr th:only-of-type {\n",
              "        vertical-align: middle;\n",
              "    }\n",
              "\n",
              "    .dataframe tbody tr th {\n",
              "        vertical-align: top;\n",
              "    }\n",
              "\n",
              "    .dataframe thead th {\n",
              "        text-align: right;\n",
              "    }\n",
              "</style>\n",
              "<table border=\"1\" class=\"dataframe\">\n",
              "  <thead>\n",
              "    <tr style=\"text-align: right;\">\n",
              "      <th></th>\n",
              "      <th>c_gender</th>\n",
              "      <th>n_age</th>\n",
              "      <th>c_zip</th>\n",
              "      <th>c_edu</th>\n",
              "      <th>c_mry</th>\n",
              "      <th>c_job</th>\n",
              "      <th>c_occp</th>\n",
              "      <th>a_incm_flg</th>\n",
              "      <th>x_flg_house</th>\n",
              "      <th>CAR_FLG</th>\n",
              "    </tr>\n",
              "    <tr>\n",
              "      <th>CUST_NO</th>\n",
              "      <th></th>\n",
              "      <th></th>\n",
              "      <th></th>\n",
              "      <th></th>\n",
              "      <th></th>\n",
              "      <th></th>\n",
              "      <th></th>\n",
              "      <th></th>\n",
              "      <th></th>\n",
              "      <th></th>\n",
              "    </tr>\n",
              "  </thead>\n",
              "  <tbody>\n",
              "    <tr>\n",
              "      <th>21969</th>\n",
              "      <td>M</td>\n",
              "      <td>48</td>\n",
              "      <td>110</td>\n",
              "      <td>4</td>\n",
              "      <td>S</td>\n",
              "      <td>106</td>\n",
              "      <td>901</td>\n",
              "      <td>6</td>\n",
              "      <td>1.0</td>\n",
              "      <td>0</td>\n",
              "    </tr>\n",
              "    <tr>\n",
              "      <th>24081</th>\n",
              "      <td>M</td>\n",
              "      <td>42</td>\n",
              "      <td>100</td>\n",
              "      <td>4</td>\n",
              "      <td>S</td>\n",
              "      <td>106</td>\n",
              "      <td>504</td>\n",
              "      <td>4</td>\n",
              "      <td>7.0</td>\n",
              "      <td>2</td>\n",
              "    </tr>\n",
              "    <tr>\n",
              "      <th>37917</th>\n",
              "      <td>M</td>\n",
              "      <td>59</td>\n",
              "      <td>100</td>\n",
              "      <td>5</td>\n",
              "      <td>S</td>\n",
              "      <td>508</td>\n",
              "      <td>0</td>\n",
              "      <td>5</td>\n",
              "      <td>99.0</td>\n",
              "      <td>2</td>\n",
              "    </tr>\n",
              "    <tr>\n",
              "      <th>38277</th>\n",
              "      <td>M</td>\n",
              "      <td>59</td>\n",
              "      <td>104</td>\n",
              "      <td>3</td>\n",
              "      <td>M</td>\n",
              "      <td>511</td>\n",
              "      <td>1101</td>\n",
              "      <td>3</td>\n",
              "      <td>9.0</td>\n",
              "      <td>2</td>\n",
              "    </tr>\n",
              "    <tr>\n",
              "      <th>38312</th>\n",
              "      <td>M</td>\n",
              "      <td>59</td>\n",
              "      <td>406</td>\n",
              "      <td>5</td>\n",
              "      <td>S</td>\n",
              "      <td>103</td>\n",
              "      <td>813</td>\n",
              "      <td>4</td>\n",
              "      <td>2.0</td>\n",
              "      <td>2</td>\n",
              "    </tr>\n",
              "  </tbody>\n",
              "</table>\n",
              "</div>"
            ],
            "text/plain": [
              "        c_gender  n_age  c_zip  c_edu  ... c_occp  a_incm_flg  x_flg_house  CAR_FLG\n",
              "CUST_NO                                ...                                         \n",
              "21969          M     48    110      4  ...    901           6          1.0        0\n",
              "24081          M     42    100      4  ...    504           4          7.0        2\n",
              "37917          M     59    100      5  ...      0           5         99.0        2\n",
              "38277          M     59    104      3  ...   1101           3          9.0        2\n",
              "38312          M     59    406      5  ...    813           4          2.0        2\n",
              "\n",
              "[5 rows x 10 columns]"
            ]
          },
          "metadata": {
            "tags": []
          },
          "execution_count": 17
        }
      ]
    },
    {
      "cell_type": "code",
      "metadata": {
        "id": "dhXulOl7_MCr",
        "colab_type": "code",
        "colab": {}
      },
      "source": [
        "y = profile_df.c_gender[status_df.CUST_NO]\n",
        "y.index=status_df.index\n",
        "status_df['y'] = y"
      ],
      "execution_count": 0,
      "outputs": []
    },
    {
      "cell_type": "code",
      "metadata": {
        "id": "0rRyo7M3BMSg",
        "colab_type": "code",
        "colab": {
          "base_uri": "https://localhost:8080/",
          "height": 269
        },
        "outputId": "efa60a9c-78ca-4cf9-96e5-e17aff698100"
      },
      "source": [
        "import matplotlib.pyplot as plt\n",
        "X, y = status_df[['py_k', 'py_e']].values.astype('float'), status_df.y=='M'\n",
        "# 標出 sample 點\n",
        "plt.scatter(X[:5000,0], X[:5000, 1],  c=y[:5000], cmap=plt.cm.rainbow, zorder=10, s=10);\n"
      ],
      "execution_count": 38,
      "outputs": [
        {
          "output_type": "display_data",
          "data": {
            "image/png": "[encoded data removed]",
            "text/plain": [
              "<Figure size 432x288 with 1 Axes>"
            ]
          },
          "metadata": {
            "tags": []
          }
        }
      ]
    },
    {
      "cell_type": "code",
      "metadata": {
        "id": "4OYlwCKYCT2i",
        "colab_type": "code",
        "colab": {
          "base_uri": "https://localhost:8080/",
          "height": 35
        },
        "outputId": "d7cf500b-e6dd-42dd-85f5-c6ea7bb73859"
      },
      "source": [
        "set(status_df.y)"
      ],
      "execution_count": 19,
      "outputs": [
        {
          "output_type": "execute_result",
          "data": {
            "text/plain": [
              "{1, 2, 3, 4, 5, 6}"
            ]
          },
          "metadata": {
            "tags": []
          },
          "execution_count": 19
        }
      ]
    },
    {
      "cell_type": "code",
      "metadata": {
        "id": "1k5yl0hjDaUQ",
        "colab_type": "code",
        "colab": {}
      },
      "source": [
        ""
      ],
      "execution_count": 0,
      "outputs": []
    }
  ]
}